{
 "cells": [
  {
   "cell_type": "code",
   "execution_count": 2,
   "metadata": {
    "colab": {
     "base_uri": "https://localhost:8080/"
    },
    "id": "aSvBj3uKy2M3",
    "outputId": "d1dd0b1b-ac01-4428-d57d-3b917cc09d2e"
   },
   "outputs": [
    {
     "name": "stdout",
     "output_type": "stream",
     "text": [
      "Requirement already satisfied: llvmlite in c:\\users\\91824\\appdata\\local\\packages\\pythonsoftwarefoundation.python.3.10_qbz5n2kfra8p0\\localcache\\local-packages\\python310\\site-packages (0.41.1)\n"
     ]
    },
    {
     "name": "stderr",
     "output_type": "stream",
     "text": [
      "ERROR: Ignored the following versions that require a different python version: 0.52.0 Requires-Python >=3.6,<3.9; 0.52.0rc3 Requires-Python >=3.6,<3.9; 0.53.0 Requires-Python >=3.6,<3.10; 0.53.0rc1.post1 Requires-Python >=3.6,<3.10; 0.53.0rc2 Requires-Python >=3.6,<3.10; 0.53.0rc3 Requires-Python >=3.6,<3.10; 0.53.1 Requires-Python >=3.6,<3.10; 0.54.0 Requires-Python >=3.7,<3.10; 0.54.0rc2 Requires-Python >=3.7,<3.10; 0.54.0rc3 Requires-Python >=3.7,<3.10; 0.54.1 Requires-Python >=3.7,<3.10\n",
      "ERROR: Could not find a version that satisfies the requirement numba==0.53.1 (from versions: 0.1, 0.2, 0.3, 0.5.0, 0.6.0, 0.7.0, 0.7.1, 0.7.2, 0.8.0, 0.8.1, 0.9.0, 0.10.0, 0.10.1, 0.11.0, 0.12.0, 0.12.1, 0.12.2, 0.13.0, 0.13.2, 0.13.3, 0.13.4, 0.14.0, 0.15.1, 0.16.0, 0.17.0, 0.18.1, 0.18.2, 0.19.1, 0.19.2, 0.20.0, 0.21.0, 0.22.0, 0.22.1, 0.23.0, 0.23.1, 0.24.0, 0.25.0, 0.26.0, 0.27.0, 0.28.1, 0.29.0, 0.30.0, 0.30.1, 0.31.0, 0.32.0, 0.33.0, 0.34.0, 0.35.0, 0.36.1, 0.36.2, 0.37.0, 0.38.0, 0.38.1, 0.39.0, 0.40.0, 0.40.1, 0.41.0, 0.42.0, 0.42.1, 0.43.0, 0.43.1, 0.44.0, 0.44.1, 0.45.0, 0.45.1, 0.46.0, 0.47.0, 0.48.0, 0.49.0, 0.49.1rc1, 0.49.1, 0.50.0rc1, 0.50.0, 0.50.1, 0.51.0rc1, 0.51.0, 0.51.1, 0.51.2, 0.52.0rc2, 0.55.0rc1, 0.55.0, 0.55.1, 0.55.2, 0.56.0rc1, 0.56.0, 0.56.2, 0.56.3, 0.56.4, 0.57.0rc1, 0.57.0, 0.57.1rc1, 0.57.1, 0.58.0rc1, 0.58.0rc2, 0.58.0, 0.58.1, 0.59.0rc1)\n",
      "ERROR: No matching distribution found for numba==0.53.1\n"
     ]
    },
    {
     "name": "stdout",
     "output_type": "stream",
     "text": [
      "Requirement already satisfied: librosa in c:\\users\\91824\\appdata\\local\\packages\\pythonsoftwarefoundation.python.3.10_qbz5n2kfra8p0\\localcache\\local-packages\\python310\\site-packages (0.10.1)\n",
      "Requirement already satisfied: audioread>=2.1.9 in c:\\users\\91824\\appdata\\local\\packages\\pythonsoftwarefoundation.python.3.10_qbz5n2kfra8p0\\localcache\\local-packages\\python310\\site-packages (from librosa) (3.0.1)\n",
      "Requirement already satisfied: numpy!=1.22.0,!=1.22.1,!=1.22.2,>=1.20.3 in c:\\users\\91824\\appdata\\local\\packages\\pythonsoftwarefoundation.python.3.10_qbz5n2kfra8p0\\localcache\\local-packages\\python310\\site-packages (from librosa) (1.25.2)\n",
      "Requirement already satisfied: scipy>=1.2.0 in c:\\users\\91824\\appdata\\local\\packages\\pythonsoftwarefoundation.python.3.10_qbz5n2kfra8p0\\localcache\\local-packages\\python310\\site-packages (from librosa) (1.9.3)\n",
      "Requirement already satisfied: scikit-learn>=0.20.0 in c:\\users\\91824\\appdata\\local\\packages\\pythonsoftwarefoundation.python.3.10_qbz5n2kfra8p0\\localcache\\local-packages\\python310\\site-packages (from librosa) (1.3.0)\n",
      "Requirement already satisfied: joblib>=0.14 in c:\\users\\91824\\appdata\\local\\packages\\pythonsoftwarefoundation.python.3.10_qbz5n2kfra8p0\\localcache\\local-packages\\python310\\site-packages (from librosa) (1.3.1)\n",
      "Requirement already satisfied: decorator>=4.3.0 in c:\\users\\91824\\appdata\\local\\packages\\pythonsoftwarefoundation.python.3.10_qbz5n2kfra8p0\\localcache\\local-packages\\python310\\site-packages (from librosa) (5.1.1)\n",
      "Requirement already satisfied: numba>=0.51.0 in c:\\users\\91824\\appdata\\local\\packages\\pythonsoftwarefoundation.python.3.10_qbz5n2kfra8p0\\localcache\\local-packages\\python310\\site-packages (from librosa) (0.58.1)\n",
      "Requirement already satisfied: soundfile>=0.12.1 in c:\\users\\91824\\appdata\\local\\packages\\pythonsoftwarefoundation.python.3.10_qbz5n2kfra8p0\\localcache\\local-packages\\python310\\site-packages (from librosa) (0.12.1)\n",
      "Requirement already satisfied: pooch>=1.0 in c:\\users\\91824\\appdata\\local\\packages\\pythonsoftwarefoundation.python.3.10_qbz5n2kfra8p0\\localcache\\local-packages\\python310\\site-packages (from librosa) (1.8.0)\n",
      "Requirement already satisfied: soxr>=0.3.2 in c:\\users\\91824\\appdata\\local\\packages\\pythonsoftwarefoundation.python.3.10_qbz5n2kfra8p0\\localcache\\local-packages\\python310\\site-packages (from librosa) (0.3.7)\n",
      "Requirement already satisfied: typing-extensions>=4.1.1 in c:\\users\\91824\\appdata\\local\\packages\\pythonsoftwarefoundation.python.3.10_qbz5n2kfra8p0\\localcache\\local-packages\\python310\\site-packages (from librosa) (4.8.0)\n",
      "Requirement already satisfied: lazy-loader>=0.1 in c:\\users\\91824\\appdata\\local\\packages\\pythonsoftwarefoundation.python.3.10_qbz5n2kfra8p0\\localcache\\local-packages\\python310\\site-packages (from librosa) (0.3)\n",
      "Requirement already satisfied: msgpack>=1.0 in c:\\users\\91824\\appdata\\local\\packages\\pythonsoftwarefoundation.python.3.10_qbz5n2kfra8p0\\localcache\\local-packages\\python310\\site-packages (from librosa) (1.0.7)\n",
      "Requirement already satisfied: llvmlite<0.42,>=0.41.0dev0 in c:\\users\\91824\\appdata\\local\\packages\\pythonsoftwarefoundation.python.3.10_qbz5n2kfra8p0\\localcache\\local-packages\\python310\\site-packages (from numba>=0.51.0->librosa) (0.41.1)\n",
      "Requirement already satisfied: platformdirs>=2.5.0 in c:\\users\\91824\\appdata\\local\\packages\\pythonsoftwarefoundation.python.3.10_qbz5n2kfra8p0\\localcache\\local-packages\\python310\\site-packages (from pooch>=1.0->librosa) (2.5.4)\n",
      "Requirement already satisfied: packaging>=20.0 in c:\\users\\91824\\appdata\\local\\packages\\pythonsoftwarefoundation.python.3.10_qbz5n2kfra8p0\\localcache\\local-packages\\python310\\site-packages (from pooch>=1.0->librosa) (21.3)\n",
      "Requirement already satisfied: requests>=2.19.0 in c:\\users\\91824\\appdata\\local\\packages\\pythonsoftwarefoundation.python.3.10_qbz5n2kfra8p0\\localcache\\local-packages\\python310\\site-packages (from pooch>=1.0->librosa) (2.28.1)\n",
      "Requirement already satisfied: threadpoolctl>=2.0.0 in c:\\users\\91824\\appdata\\local\\packages\\pythonsoftwarefoundation.python.3.10_qbz5n2kfra8p0\\localcache\\local-packages\\python310\\site-packages (from scikit-learn>=0.20.0->librosa) (3.2.0)\n",
      "Requirement already satisfied: cffi>=1.0 in c:\\users\\91824\\appdata\\local\\packages\\pythonsoftwarefoundation.python.3.10_qbz5n2kfra8p0\\localcache\\local-packages\\python310\\site-packages (from soundfile>=0.12.1->librosa) (1.15.1)\n",
      "Requirement already satisfied: pycparser in c:\\users\\91824\\appdata\\local\\packages\\pythonsoftwarefoundation.python.3.10_qbz5n2kfra8p0\\localcache\\local-packages\\python310\\site-packages (from cffi>=1.0->soundfile>=0.12.1->librosa) (2.21)\n",
      "Requirement already satisfied: pyparsing!=3.0.5,>=2.0.2 in c:\\users\\91824\\appdata\\local\\packages\\pythonsoftwarefoundation.python.3.10_qbz5n2kfra8p0\\localcache\\local-packages\\python310\\site-packages (from packaging>=20.0->pooch>=1.0->librosa) (3.0.9)\n",
      "Requirement already satisfied: charset-normalizer<3,>=2 in c:\\users\\91824\\appdata\\local\\packages\\pythonsoftwarefoundation.python.3.10_qbz5n2kfra8p0\\localcache\\local-packages\\python310\\site-packages (from requests>=2.19.0->pooch>=1.0->librosa) (2.1.1)\n",
      "Requirement already satisfied: idna<4,>=2.5 in c:\\users\\91824\\appdata\\local\\packages\\pythonsoftwarefoundation.python.3.10_qbz5n2kfra8p0\\localcache\\local-packages\\python310\\site-packages (from requests>=2.19.0->pooch>=1.0->librosa) (3.4)\n",
      "Requirement already satisfied: urllib3<1.27,>=1.21.1 in c:\\users\\91824\\appdata\\local\\packages\\pythonsoftwarefoundation.python.3.10_qbz5n2kfra8p0\\localcache\\local-packages\\python310\\site-packages (from requests>=2.19.0->pooch>=1.0->librosa) (1.26.12)\n",
      "Requirement already satisfied: certifi>=2017.4.17 in c:\\users\\91824\\appdata\\local\\packages\\pythonsoftwarefoundation.python.3.10_qbz5n2kfra8p0\\localcache\\local-packages\\python310\\site-packages (from requests>=2.19.0->pooch>=1.0->librosa) (2022.9.24)\n"
     ]
    }
   ],
   "source": [
    "!pip install --upgrade llvmlite\n",
    "!pip install --upgrade numba==0.53.1\n",
    "!pip install --upgrade librosa"
   ]
  },
  {
   "cell_type": "code",
   "execution_count": 1,
   "metadata": {
    "id": "J00hUkIXy-du"
   },
   "outputs": [],
   "source": [
    "import librosa\n",
    "import librosa.display\n",
    "import numpy as np\n",
    "import pandas as pd\n",
    "\n",
    "import IPython.display as ipd\n",
    "from IPython.display import Image\n",
    "\n",
    "\n",
    "#%pylab inline\n",
    "#%matplotlib inline\n",
    "import matplotlib.pyplot as plt\n",
    "\n",
    "import os"
   ]
  },
  {
   "cell_type": "code",
   "execution_count": 2,
   "metadata": {
    "id": "y_Q0y25Zzqx2"
   },
   "outputs": [],
   "source": [
    "audio = '/emodb/wav/13a02Wa.wav'"
   ]
  },
  {
   "cell_type": "code",
   "execution_count": 3,
   "metadata": {
    "id": "wiJgZ-wl5zqi"
   },
   "outputs": [],
   "source": [
    "data, sampling_rate = librosa.load('emodb/wav/13a02Wa.wav')"
   ]
  },
  {
   "cell_type": "code",
   "execution_count": 4,
   "metadata": {
    "colab": {
     "base_uri": "https://localhost:8080/"
    },
    "id": "DSfIiUqs6IeG",
    "outputId": "869a6ff7-3a01-46de-e0ba-6f14bab64ea2"
   },
   "outputs": [
    {
     "data": {
      "text/plain": [
       "5.39299e-05"
      ]
     },
     "execution_count": 4,
     "metadata": {},
     "output_type": "execute_result"
    }
   ],
   "source": [
    "data[0]"
   ]
  },
  {
   "cell_type": "code",
   "execution_count": 5,
   "metadata": {
    "colab": {
     "base_uri": "https://localhost:8080/",
     "height": 76
    },
    "id": "k_fsQ24k6Ttv",
    "outputId": "3b237570-e1e4-452b-eb0e-d55f46405fb9"
   },
   "outputs": [
    {
     "data": {
      "text/html": [
       "\n",
       "                <audio  controls=\"controls\" >\n",
       "                    <source src=\"data:audio/wav;base64,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\" type=\"audio/wav\" />\n",
       "                    Your browser does not support the audio element.\n",
       "                </audio>\n",
       "              "
      ],
      "text/plain": [
       "<IPython.lib.display.Audio object>"
      ]
     },
     "execution_count": 5,
     "metadata": {},
     "output_type": "execute_result"
    }
   ],
   "source": [
    "ipd.Audio('emodb/wav/13a02Wa.wav')"
   ]
  },
  {
   "cell_type": "code",
   "execution_count": 6,
   "metadata": {
    "colab": {
     "base_uri": "https://localhost:8080/"
    },
    "id": "Xq46J-Ei6qJu",
    "outputId": "15b50af8-f001-41bc-dab5-62cd0800d2f9"
   },
   "outputs": [
    {
     "data": {
      "text/plain": [
       "22050"
      ]
     },
     "execution_count": 6,
     "metadata": {},
     "output_type": "execute_result"
    }
   ],
   "source": [
    "sampling_rate"
   ]
  },
  {
   "cell_type": "code",
   "execution_count": 7,
   "metadata": {
    "colab": {
     "base_uri": "https://localhost:8080/"
    },
    "id": "XI24KJV364Ek",
    "outputId": "9e89302e-7789-4c34-ed69-d1fe45effffd"
   },
   "outputs": [
    {
     "data": {
      "text/plain": [
       "36802"
      ]
     },
     "execution_count": 7,
     "metadata": {},
     "output_type": "execute_result"
    }
   ],
   "source": [
    "len(data)"
   ]
  },
  {
   "cell_type": "code",
   "execution_count": 8,
   "metadata": {
    "colab": {
     "base_uri": "https://localhost:8080/",
     "height": 435
    },
    "id": "TYfVjURD673W",
    "outputId": "51c3304f-be01-4112-e7b1-8b47be14fc19"
   },
   "outputs": [
    {
     "data": {
      "text/plain": [
       "<librosa.display.AdaptiveWaveplot at 0x1e669e33580>"
      ]
     },
     "execution_count": 8,
     "metadata": {},
     "output_type": "execute_result"
    },
    {
     "data": {
      "image/png": "[encoded data removed]",
      "text/plain": [
       "<Figure size 1500x500 with 1 Axes>"
      ]
     },
     "metadata": {},
     "output_type": "display_data"
    }
   ],
   "source": [
    "plt.figure(figsize=(15, 5))\n",
    "librosa.display.waveshow(data, sr=sampling_rate)"
   ]
  },
  {
   "cell_type": "code",
   "execution_count": 10,
   "metadata": {
    "id": "KqMwkrhS7Jho"
   },
   "outputs": [],
   "source": [
    "data_path = 'emodb/wav'\n",
    "dest_path = 'emodb/wav_train_test'"
   ]
  },
  {
   "cell_type": "code",
   "execution_count": 11,
   "metadata": {
    "id": "YX5fG-FLaKa3"
   },
   "outputs": [],
   "source": [
    "labels_encoded = {'W':0, 'L':1, 'E':2, 'A':3, 'F':4, 'T':5, 'N':6}\n",
    "gender_encoded = {'03':1 , '10' : 1, '11':1 , '12':1 , '15':1, '08':0, '09':0, '13':0 , '14':0, '16':0}"
   ]
  },
  {
   "cell_type": "code",
   "execution_count": 12,
   "metadata": {
    "id": "CJMsArz7aVuc"
   },
   "outputs": [],
   "source": [
    "labels = []\n",
    "file_paths = []\n",
    "gender = []"
   ]
  },
  {
   "cell_type": "code",
   "execution_count": 13,
   "metadata": {
    "id": "sBl1v8qdadq0"
   },
   "outputs": [],
   "source": [
    "for file_name in os.listdir(data_path):\n",
    "  if file_name.endswith('.wav'):\n",
    "    file_paths.append(file_name)\n",
    "    labels.append(labels_encoded[file_name[5]])"
   ]
  },
  {
   "cell_type": "code",
   "execution_count": 14,
   "metadata": {
    "colab": {
     "base_uri": "https://localhost:8080/",
     "height": 423
    },
    "id": "FwELw7-XaiyQ",
    "outputId": "49356d7c-cb03-4b63-f55e-7991f4ba3ed7"
   },
   "outputs": [
    {
     "data": {
      "text/html": [
       "<div>\n",
       "<style scoped>\n",
       "    .dataframe tbody tr th:only-of-type {\n",
       "        vertical-align: middle;\n",
       "    }\n",
       "\n",
       "    .dataframe tbody tr th {\n",
       "        vertical-align: top;\n",
       "    }\n",
       "\n",
       "    .dataframe thead th {\n",
       "        text-align: right;\n",
       "    }\n",
       "</style>\n",
       "<table border=\"1\" class=\"dataframe\">\n",
       "  <thead>\n",
       "    <tr style=\"text-align: right;\">\n",
       "      <th></th>\n",
       "      <th>file_path</th>\n",
       "      <th>label</th>\n",
       "    </tr>\n",
       "  </thead>\n",
       "  <tbody>\n",
       "    <tr>\n",
       "      <th>0</th>\n",
       "      <td>03a01Fa.wav</td>\n",
       "      <td>4</td>\n",
       "    </tr>\n",
       "    <tr>\n",
       "      <th>1</th>\n",
       "      <td>03a01Nc.wav</td>\n",
       "      <td>6</td>\n",
       "    </tr>\n",
       "    <tr>\n",
       "      <th>2</th>\n",
       "      <td>03a01Wa.wav</td>\n",
       "      <td>0</td>\n",
       "    </tr>\n",
       "    <tr>\n",
       "      <th>3</th>\n",
       "      <td>03a02Fc.wav</td>\n",
       "      <td>4</td>\n",
       "    </tr>\n",
       "    <tr>\n",
       "      <th>4</th>\n",
       "      <td>03a02Nc.wav</td>\n",
       "      <td>6</td>\n",
       "    </tr>\n",
       "    <tr>\n",
       "      <th>...</th>\n",
       "      <td>...</td>\n",
       "      <td>...</td>\n",
       "    </tr>\n",
       "    <tr>\n",
       "      <th>530</th>\n",
       "      <td>16b10Lb.wav</td>\n",
       "      <td>1</td>\n",
       "    </tr>\n",
       "    <tr>\n",
       "      <th>531</th>\n",
       "      <td>16b10Tb.wav</td>\n",
       "      <td>5</td>\n",
       "    </tr>\n",
       "    <tr>\n",
       "      <th>532</th>\n",
       "      <td>16b10Td.wav</td>\n",
       "      <td>5</td>\n",
       "    </tr>\n",
       "    <tr>\n",
       "      <th>533</th>\n",
       "      <td>16b10Wa.wav</td>\n",
       "      <td>0</td>\n",
       "    </tr>\n",
       "    <tr>\n",
       "      <th>534</th>\n",
       "      <td>16b10Wb.wav</td>\n",
       "      <td>0</td>\n",
       "    </tr>\n",
       "  </tbody>\n",
       "</table>\n",
       "<p>535 rows × 2 columns</p>\n",
       "</div>"
      ],
      "text/plain": [
       "       file_path  label\n",
       "0    03a01Fa.wav      4\n",
       "1    03a01Nc.wav      6\n",
       "2    03a01Wa.wav      0\n",
       "3    03a02Fc.wav      4\n",
       "4    03a02Nc.wav      6\n",
       "..           ...    ...\n",
       "530  16b10Lb.wav      1\n",
       "531  16b10Tb.wav      5\n",
       "532  16b10Td.wav      5\n",
       "533  16b10Wa.wav      0\n",
       "534  16b10Wb.wav      0\n",
       "\n",
       "[535 rows x 2 columns]"
      ]
     },
     "execution_count": 14,
     "metadata": {},
     "output_type": "execute_result"
    }
   ],
   "source": [
    "df = pd.DataFrame(\n",
    "    {\n",
    "        'file_path':file_paths,\n",
    "        'label':labels,\n",
    "    }\n",
    ")\n",
    "df"
   ]
  },
  {
   "cell_type": "code",
   "execution_count": 15,
   "metadata": {
    "colab": {
     "base_uri": "https://localhost:8080/"
    },
    "id": "EskCGyu1bRng",
    "outputId": "ae02fa4f-6d72-4e51-ea11-2b835e39ea36"
   },
   "outputs": [
    {
     "data": {
      "text/plain": [
       "array([0, 1, 2, 3, 4, 5, 6], dtype=int64)"
      ]
     },
     "execution_count": 15,
     "metadata": {},
     "output_type": "execute_result"
    }
   ],
   "source": [
    "plot_x = np.array(df.label.unique())\n",
    "plot_x.sort()\n",
    "plot_x"
   ]
  },
  {
   "cell_type": "code",
   "execution_count": 16,
   "metadata": {
    "colab": {
     "base_uri": "https://localhost:8080/"
    },
    "id": "dP1WUZHpa9HV",
    "outputId": "6a3431fd-f303-4546-bd2d-d6505bc97023"
   },
   "outputs": [
    {
     "data": {
      "text/plain": [
       "0    127\n",
       "1     81\n",
       "6     79\n",
       "4     71\n",
       "3     69\n",
       "5     62\n",
       "2     46\n",
       "Name: label, dtype: int64"
      ]
     },
     "execution_count": 16,
     "metadata": {},
     "output_type": "execute_result"
    }
   ],
   "source": [
    "unique_values = df.label.value_counts(sort = True)\n",
    "unique_values"
   ]
  },
  {
   "cell_type": "code",
   "execution_count": 17,
   "metadata": {
    "colab": {
     "base_uri": "https://localhost:8080/"
    },
    "id": "Dk47NDP9bEu4",
    "outputId": "258c08ae-fd57-47fb-ef6c-ab2773f4a151"
   },
   "outputs": [
    {
     "data": {
      "text/plain": [
       "[127, 81, 46, 69, 71, 62, 79]"
      ]
     },
     "execution_count": 17,
     "metadata": {},
     "output_type": "execute_result"
    }
   ],
   "source": [
    "plot_y = []\n",
    "for x in plot_x:\n",
    "  plot_y.append(unique_values[x])\n",
    "plot_y"
   ]
  },
  {
   "cell_type": "code",
   "execution_count": null,
   "metadata": {
    "id": "9YFoTvwFbKwz"
   },
   "outputs": [],
   "source": [
    "unique_values = pd.DataFrame(unique_values)"
   ]
  },
  {
   "cell_type": "code",
   "execution_count": 19,
   "metadata": {
    "colab": {
     "base_uri": "https://localhost:8080/"
    },
    "id": "rgienoo_bYjY",
    "outputId": "90de7cfa-5189-463a-8e4e-9dcca7689360"
   },
   "outputs": [
    {
     "data": {
      "text/plain": [
       "file_path    0\n",
       "label        0\n",
       "dtype: int64"
      ]
     },
     "execution_count": 19,
     "metadata": {},
     "output_type": "execute_result"
    }
   ],
   "source": [
    "df.isnull().sum()"
   ]
  },
  {
   "cell_type": "code",
   "execution_count": 20,
   "metadata": {
    "id": "0cKNLAO3bdaO"
   },
   "outputs": [],
   "source": [
    "data_mfcc = librosa.feature.mfcc(y = data , sr = sampling_rate, n_mfcc = 20)"
   ]
  },
  {
   "cell_type": "code",
   "execution_count": 21,
   "metadata": {
    "colab": {
     "base_uri": "https://localhost:8080/"
    },
    "id": "LjNYEJp6biTY",
    "outputId": "7032f4df-2354-47bb-e05f-b70878002f90"
   },
   "outputs": [
    {
     "data": {
      "text/plain": [
       "(36802,)"
      ]
     },
     "execution_count": 21,
     "metadata": {},
     "output_type": "execute_result"
    }
   ],
   "source": [
    "data.shape"
   ]
  },
  {
   "cell_type": "code",
   "execution_count": 22,
   "metadata": {
    "colab": {
     "base_uri": "https://localhost:8080/"
    },
    "id": "8sQ7o6NVbmYe",
    "outputId": "9468e2d6-4a09-4adb-ceb0-4fe62a8d46e0"
   },
   "outputs": [
    {
     "data": {
      "text/plain": [
       "(20, 72)"
      ]
     },
     "execution_count": 22,
     "metadata": {},
     "output_type": "execute_result"
    }
   ],
   "source": [
    "data_mfcc.shape"
   ]
  },
  {
   "cell_type": "code",
   "execution_count": 23,
   "metadata": {
    "colab": {
     "base_uri": "https://localhost:8080/"
    },
    "id": "4QH0jzv5bqBe",
    "outputId": "389dfb59-ebd4-4ce6-9d52-7baa08322a08"
   },
   "outputs": [
    {
     "data": {
      "text/plain": [
       "array([[-5.4113873e+02, -5.3545520e+02, -5.6429401e+02, ...,\n",
       "        -5.1671906e+02, -5.4457074e+02, -5.5832874e+02],\n",
       "       [ 6.0878986e+01,  6.6498222e+01,  3.6418499e+01, ...,\n",
       "         8.0052803e+01,  5.6882122e+01,  4.4374359e+01],\n",
       "       [ 3.6335297e+01,  3.8591103e+01,  2.9815769e+01, ...,\n",
       "         4.0827362e+01,  4.2071880e+01,  3.8139397e+01],\n",
       "       ...,\n",
       "       [ 4.1612477e+00,  5.8324227e+00,  2.8061352e+00, ...,\n",
       "        -1.0315620e+01, -2.7805433e+00, -4.2048783e+00],\n",
       "       [-2.9308200e-01,  1.3367271e+00,  2.6115558e+00, ...,\n",
       "        -1.0182588e+01, -3.1437523e+00, -3.1660812e+00],\n",
       "       [-4.8473864e+00, -4.0767679e+00,  1.5981030e+00, ...,\n",
       "        -3.4311895e+00, -5.9004421e+00, -3.5788937e+00]], dtype=float32)"
      ]
     },
     "execution_count": 23,
     "metadata": {},
     "output_type": "execute_result"
    }
   ],
   "source": [
    "data_mfcc"
   ]
  },
  {
   "cell_type": "code",
   "execution_count": 24,
   "metadata": {
    "colab": {
     "base_uri": "https://localhost:8080/",
     "height": 466
    },
    "id": "Xjp8fLL8btOO",
    "outputId": "1aa7b011-f292-4b00-ace7-282bb1257b9b"
   },
   "outputs": [
    {
     "data": {
      "text/plain": [
       "<librosa.display.AdaptiveWaveplot at 0x1e669ba6950>"
      ]
     },
     "execution_count": 24,
     "metadata": {},
     "output_type": "execute_result"
    },
    {
     "data": {
      "image/png": "[encoded data removed]",
      "text/plain": [
       "<Figure size 640x480 with 1 Axes>"
      ]
     },
     "metadata": {},
     "output_type": "display_data"
    }
   ],
   "source": [
    "librosa.display.waveshow(data_mfcc, sr=sampling_rate)"
   ]
  },
  {
   "cell_type": "code",
   "execution_count": 25,
   "metadata": {
    "colab": {
     "base_uri": "https://localhost:8080/",
     "height": 466
    },
    "id": "yRH10F0tbxNf",
    "outputId": "b19d400b-540e-4b13-e892-6c309c96568f"
   },
   "outputs": [
    {
     "data": {
      "text/plain": [
       "<librosa.display.AdaptiveWaveplot at 0x1e66e8c59c0>"
      ]
     },
     "execution_count": 25,
     "metadata": {},
     "output_type": "execute_result"
    },
    {
     "data": {
      "image/png": "[encoded data removed]",
      "text/plain": [
       "<Figure size 640x480 with 1 Axes>"
      ]
     },
     "metadata": {},
     "output_type": "display_data"
    }
   ],
   "source": [
    "librosa.display.waveshow(data, sr=sampling_rate)"
   ]
  },
  {
   "cell_type": "code",
   "execution_count": 26,
   "metadata": {
    "colab": {
     "base_uri": "https://localhost:8080/"
    },
    "id": "H09FdJTLb1Cw",
    "outputId": "487aa52d-6522-4d5d-fbc0-7551f1564f5c"
   },
   "outputs": [
    {
     "name": "stdout",
     "output_type": "stream",
     "text": [
      "Iteration 1\n",
      "Iteration 2\n",
      "Iteration 3\n",
      "Iteration 4\n",
      "Iteration 5\n",
      "Iteration 6\n",
      "Iteration 7\n",
      "Iteration 8\n",
      "Iteration 9\n",
      "Iteration 10\n",
      "Iteration 11\n",
      "Iteration 12\n",
      "Iteration 13\n",
      "Iteration 14\n",
      "Iteration 15\n",
      "Iteration 16\n",
      "Iteration 17\n",
      "Iteration 18\n",
      "Iteration 19\n",
      "Iteration 20\n",
      "Iteration 21\n",
      "Iteration 22\n",
      "Iteration 23\n",
      "Iteration 24\n",
      "Iteration 25\n",
      "Iteration 26\n",
      "Iteration 27\n",
      "Iteration 28\n",
      "Iteration 29\n",
      "Iteration 30\n",
      "Iteration 31\n",
      "Iteration 32\n",
      "Iteration 33\n",
      "Iteration 34\n",
      "Iteration 35\n",
      "Iteration 36\n",
      "Iteration 37\n",
      "Iteration 38\n",
      "Iteration 39\n",
      "Iteration 40\n",
      "Iteration 41\n",
      "Iteration 42\n",
      "Iteration 43\n",
      "Iteration 44\n",
      "Iteration 45\n",
      "Iteration 46\n",
      "Iteration 47\n",
      "Iteration 48\n",
      "Iteration 49\n",
      "Iteration 50\n",
      "Iteration 51\n",
      "Iteration 52\n",
      "Iteration 53\n",
      "Iteration 54\n",
      "Iteration 55\n",
      "Iteration 56\n",
      "Iteration 57\n",
      "Iteration 58\n",
      "Iteration 59\n",
      "Iteration 60\n",
      "Iteration 61\n",
      "Iteration 62\n",
      "Iteration 63\n",
      "Iteration 64\n",
      "Iteration 65\n",
      "Iteration 66\n",
      "Iteration 67\n",
      "Iteration 68\n",
      "Iteration 69\n",
      "Iteration 70\n",
      "Iteration 71\n",
      "Iteration 72\n",
      "Iteration 73\n",
      "Iteration 74\n",
      "Iteration 75\n",
      "Iteration 76\n",
      "Iteration 77\n",
      "Iteration 78\n",
      "Iteration 79\n",
      "Iteration 80\n",
      "Iteration 81\n",
      "Iteration 82\n",
      "Iteration 83\n",
      "Iteration 84\n",
      "Iteration 85\n",
      "Iteration 86\n",
      "Iteration 87\n",
      "Iteration 88\n",
      "Iteration 89\n",
      "Iteration 90\n",
      "Iteration 91\n",
      "Iteration 92\n",
      "Iteration 93\n",
      "Iteration 94\n",
      "Iteration 95\n",
      "Iteration 96\n",
      "Iteration 97\n",
      "Iteration 98\n",
      "Iteration 99\n",
      "Iteration 100\n",
      "Iteration 101\n",
      "Iteration 102\n",
      "Iteration 103\n",
      "Iteration 104\n",
      "Iteration 105\n",
      "Iteration 106\n",
      "Iteration 107\n",
      "Iteration 108\n",
      "Iteration 109\n",
      "Iteration 110\n",
      "Iteration 111\n",
      "Iteration 112\n",
      "Iteration 113\n",
      "Iteration 114\n",
      "Iteration 115\n",
      "Iteration 116\n",
      "Iteration 117\n",
      "Iteration 118\n",
      "Iteration 119\n",
      "Iteration 120\n",
      "Iteration 121\n",
      "Iteration 122\n",
      "Iteration 123\n",
      "Iteration 124\n",
      "Iteration 125\n",
      "Iteration 126\n",
      "Iteration 127\n",
      "Iteration 128\n",
      "Iteration 129\n",
      "Iteration 130\n",
      "Iteration 131\n",
      "Iteration 132\n",
      "Iteration 133\n",
      "Iteration 134\n",
      "Iteration 135\n",
      "Iteration 136\n",
      "Iteration 137\n",
      "Iteration 138\n",
      "Iteration 139\n",
      "Iteration 140\n",
      "Iteration 141\n",
      "Iteration 142\n",
      "Iteration 143\n",
      "Iteration 144\n",
      "Iteration 145\n",
      "Iteration 146\n",
      "Iteration 147\n",
      "Iteration 148\n",
      "Iteration 149\n",
      "Iteration 150\n",
      "Iteration 151\n",
      "Iteration 152\n",
      "Iteration 153\n",
      "Iteration 154\n",
      "Iteration 155\n",
      "Iteration 156\n",
      "Iteration 157\n",
      "Iteration 158\n",
      "Iteration 159\n",
      "Iteration 160\n",
      "Iteration 161\n",
      "Iteration 162\n",
      "Iteration 163\n",
      "Iteration 164\n",
      "Iteration 165\n",
      "Iteration 166\n",
      "Iteration 167\n",
      "Iteration 168\n",
      "Iteration 169\n",
      "Iteration 170\n",
      "Iteration 171\n",
      "Iteration 172\n",
      "Iteration 173\n",
      "Iteration 174\n",
      "Iteration 175\n",
      "Iteration 176\n",
      "Iteration 177\n",
      "Iteration 178\n",
      "Iteration 179\n",
      "Iteration 180\n",
      "Iteration 181\n",
      "Iteration 182\n",
      "Iteration 183\n",
      "Iteration 184\n",
      "Iteration 185\n",
      "Iteration 186\n",
      "Iteration 187\n",
      "Iteration 188\n",
      "Iteration 189\n",
      "Iteration 190\n",
      "Iteration 191\n",
      "Iteration 192\n",
      "Iteration 193\n",
      "Iteration 194\n",
      "Iteration 195\n",
      "Iteration 196\n",
      "Iteration 197\n",
      "Iteration 198\n",
      "Iteration 199\n",
      "Iteration 200\n",
      "Iteration 201\n",
      "Iteration 202\n",
      "Iteration 203\n",
      "Iteration 204\n",
      "Iteration 205\n",
      "Iteration 206\n",
      "Iteration 207\n",
      "Iteration 208\n",
      "Iteration 209\n",
      "Iteration 210\n",
      "Iteration 211\n",
      "Iteration 212\n",
      "Iteration 213\n",
      "Iteration 214\n",
      "Iteration 215\n",
      "Iteration 216\n",
      "Iteration 217\n",
      "Iteration 218\n",
      "Iteration 219\n",
      "Iteration 220\n",
      "Iteration 221\n",
      "Iteration 222\n",
      "Iteration 223\n",
      "Iteration 224\n",
      "Iteration 225\n",
      "Iteration 226\n",
      "Iteration 227\n",
      "Iteration 228\n",
      "Iteration 229\n",
      "Iteration 230\n",
      "Iteration 231\n",
      "Iteration 232\n",
      "Iteration 233\n",
      "Iteration 234\n",
      "Iteration 235\n",
      "Iteration 236\n",
      "Iteration 237\n",
      "Iteration 238\n",
      "Iteration 239\n",
      "Iteration 240\n",
      "Iteration 241\n",
      "Iteration 242\n",
      "Iteration 243\n",
      "Iteration 244\n",
      "Iteration 245\n",
      "Iteration 246\n",
      "Iteration 247\n",
      "Iteration 248\n",
      "Iteration 249\n",
      "Iteration 250\n",
      "Iteration 251\n",
      "Iteration 252\n",
      "Iteration 253\n",
      "Iteration 254\n",
      "Iteration 255\n",
      "Iteration 256\n",
      "Iteration 257\n",
      "Iteration 258\n",
      "Iteration 259\n",
      "Iteration 260\n",
      "Iteration 261\n",
      "Iteration 262\n",
      "Iteration 263\n",
      "Iteration 264\n",
      "Iteration 265\n",
      "Iteration 266\n",
      "Iteration 267\n",
      "Iteration 268\n",
      "Iteration 269\n",
      "Iteration 270\n",
      "Iteration 271\n",
      "Iteration 272\n",
      "Iteration 273\n",
      "Iteration 274\n",
      "Iteration 275\n",
      "Iteration 276\n",
      "Iteration 277\n",
      "Iteration 278\n",
      "Iteration 279\n",
      "Iteration 280\n",
      "Iteration 281\n",
      "Iteration 282\n",
      "Iteration 283\n",
      "Iteration 284\n",
      "Iteration 285\n",
      "Iteration 286\n",
      "Iteration 287\n",
      "Iteration 288\n",
      "Iteration 289\n",
      "Iteration 290\n",
      "Iteration 291\n",
      "Iteration 292\n",
      "Iteration 293\n",
      "Iteration 294\n",
      "Iteration 295\n",
      "Iteration 296\n",
      "Iteration 297\n",
      "Iteration 298\n",
      "Iteration 299\n",
      "Iteration 300\n",
      "Iteration 301\n",
      "Iteration 302\n",
      "Iteration 303\n",
      "Iteration 304\n",
      "Iteration 305\n",
      "Iteration 306\n",
      "Iteration 307\n",
      "Iteration 308\n",
      "Iteration 309\n",
      "Iteration 310\n",
      "Iteration 311\n",
      "Iteration 312\n",
      "Iteration 313\n",
      "Iteration 314\n",
      "Iteration 315\n",
      "Iteration 316\n",
      "Iteration 317\n",
      "Iteration 318\n",
      "Iteration 319\n",
      "Iteration 320\n",
      "Iteration 321\n",
      "Iteration 322\n",
      "Iteration 323\n",
      "Iteration 324\n",
      "Iteration 325\n",
      "Iteration 326\n",
      "Iteration 327\n",
      "Iteration 328\n",
      "Iteration 329\n",
      "Iteration 330\n",
      "Iteration 331\n",
      "Iteration 332\n",
      "Iteration 333\n",
      "Iteration 334\n",
      "Iteration 335\n",
      "Iteration 336\n",
      "Iteration 337\n",
      "Iteration 338\n",
      "Iteration 339\n",
      "Iteration 340\n",
      "Iteration 341\n",
      "Iteration 342\n",
      "Iteration 343\n",
      "Iteration 344\n",
      "Iteration 345\n",
      "Iteration 346\n",
      "Iteration 347\n",
      "Iteration 348\n",
      "Iteration 349\n",
      "Iteration 350\n",
      "Iteration 351\n",
      "Iteration 352\n",
      "Iteration 353\n",
      "Iteration 354\n",
      "Iteration 355\n",
      "Iteration 356\n",
      "Iteration 357\n",
      "Iteration 358\n",
      "Iteration 359\n",
      "Iteration 360\n",
      "Iteration 361\n",
      "Iteration 362\n",
      "Iteration 363\n",
      "Iteration 364\n",
      "Iteration 365\n",
      "Iteration 366\n",
      "Iteration 367\n",
      "Iteration 368\n",
      "Iteration 369\n",
      "Iteration 370\n",
      "Iteration 371\n",
      "Iteration 372\n",
      "Iteration 373\n",
      "Iteration 374\n",
      "Iteration 375\n",
      "Iteration 376\n",
      "Iteration 377\n",
      "Iteration 378\n",
      "Iteration 379\n",
      "Iteration 380\n",
      "Iteration 381\n",
      "Iteration 382\n",
      "Iteration 383\n",
      "Iteration 384\n",
      "Iteration 385\n",
      "Iteration 386\n",
      "Iteration 387\n",
      "Iteration 388\n",
      "Iteration 389\n",
      "Iteration 390\n",
      "Iteration 391\n",
      "Iteration 392\n",
      "Iteration 393\n",
      "Iteration 394\n",
      "Iteration 395\n",
      "Iteration 396\n",
      "Iteration 397\n",
      "Iteration 398\n",
      "Iteration 399\n",
      "Iteration 400\n",
      "Iteration 401\n",
      "Iteration 402\n",
      "Iteration 403\n",
      "Iteration 404\n",
      "Iteration 405\n",
      "Iteration 406\n",
      "Iteration 407\n",
      "Iteration 408\n",
      "Iteration 409\n",
      "Iteration 410\n",
      "Iteration 411\n",
      "Iteration 412\n",
      "Iteration 413\n",
      "Iteration 414\n",
      "Iteration 415\n",
      "Iteration 416\n",
      "Iteration 417\n",
      "Iteration 418\n",
      "Iteration 419\n",
      "Iteration 420\n",
      "Iteration 421\n",
      "Iteration 422\n",
      "Iteration 423\n",
      "Iteration 424\n",
      "Iteration 425\n",
      "Iteration 426\n",
      "Iteration 427\n",
      "Iteration 428\n",
      "Iteration 429\n",
      "Iteration 430\n",
      "Iteration 431\n",
      "Iteration 432\n",
      "Iteration 433\n",
      "Iteration 434\n",
      "Iteration 435\n",
      "Iteration 436\n",
      "Iteration 437\n",
      "Iteration 438\n",
      "Iteration 439\n",
      "Iteration 440\n",
      "Iteration 441\n",
      "Iteration 442\n",
      "Iteration 443\n",
      "Iteration 444\n",
      "Iteration 445\n",
      "Iteration 446\n",
      "Iteration 447\n",
      "Iteration 448\n",
      "Iteration 449\n",
      "Iteration 450\n",
      "Iteration 451\n",
      "Iteration 452\n",
      "Iteration 453\n",
      "Iteration 454\n",
      "Iteration 455\n",
      "Iteration 456\n",
      "Iteration 457\n",
      "Iteration 458\n",
      "Iteration 459\n",
      "Iteration 460\n",
      "Iteration 461\n",
      "Iteration 462\n",
      "Iteration 463\n",
      "Iteration 464\n",
      "Iteration 465\n",
      "Iteration 466\n",
      "Iteration 467\n",
      "Iteration 468\n",
      "Iteration 469\n",
      "Iteration 470\n",
      "Iteration 471\n",
      "Iteration 472\n",
      "Iteration 473\n",
      "Iteration 474\n",
      "Iteration 475\n",
      "Iteration 476\n",
      "Iteration 477\n",
      "Iteration 478\n",
      "Iteration 479\n",
      "Iteration 480\n",
      "Iteration 481\n",
      "Iteration 482\n",
      "Iteration 483\n",
      "Iteration 484\n",
      "Iteration 485\n",
      "Iteration 486\n",
      "Iteration 487\n",
      "Iteration 488\n",
      "Iteration 489\n",
      "Iteration 490\n",
      "Iteration 491\n",
      "Iteration 492\n",
      "Iteration 493\n",
      "Iteration 494\n",
      "Iteration 495\n",
      "Iteration 496\n",
      "Iteration 497\n",
      "Iteration 498\n",
      "Iteration 499\n",
      "Iteration 500\n",
      "Iteration 501\n",
      "Iteration 502\n",
      "Iteration 503\n",
      "Iteration 504\n",
      "Iteration 505\n",
      "Iteration 506\n",
      "Iteration 507\n",
      "Iteration 508\n",
      "Iteration 509\n",
      "Iteration 510\n",
      "Iteration 511\n",
      "Iteration 512\n",
      "Iteration 513\n",
      "Iteration 514\n",
      "Iteration 515\n",
      "Iteration 516\n",
      "Iteration 517\n",
      "Iteration 518\n",
      "Iteration 519\n",
      "Iteration 520\n",
      "Iteration 521\n",
      "Iteration 522\n",
      "Iteration 523\n",
      "Iteration 524\n",
      "Iteration 525\n",
      "Iteration 526\n",
      "Iteration 527\n",
      "Iteration 528\n",
      "Iteration 529\n",
      "Iteration 530\n",
      "Iteration 531\n",
      "Iteration 532\n",
      "Iteration 533\n",
      "Iteration 534\n",
      "Iteration 535\n"
     ]
    }
   ],
   "source": [
    "df['file_path']\n",
    "df_2_audio_vals = []\n",
    "x = 1\n",
    "for audio_file in df['file_path']:\n",
    "  data, sampling_rate = librosa.load(f'emodb/wav/{audio_file}')\n",
    "  data_mfcc = librosa.feature.mfcc(y = data , sr = sampling_rate, n_mfcc = 20)\n",
    "  df_2_audio_vals.append(data_mfcc)\n",
    "  print(f\"Iteration {x}\")\n",
    "  x+=1"
   ]
  },
  {
   "cell_type": "code",
   "execution_count": 27,
   "metadata": {
    "colab": {
     "base_uri": "https://localhost:8080/"
    },
    "id": "x-DQjYjMb7I1",
    "outputId": "f92250b9-5c95-4e61-f6a6-201a57b1c089"
   },
   "outputs": [
    {
     "data": {
      "text/plain": [
       "array([[-573.01196  , -582.12134  , -586.8176   , ..., -492.71088  ,\n",
       "        -531.3699   , -549.42737  ],\n",
       "       [  40.869022 ,   42.113426 ,   34.175797 , ...,   80.3799   ,\n",
       "          71.04459  ,   57.802822 ],\n",
       "       [  22.214771 ,   30.598278 ,   32.493942 , ...,   -9.611155 ,\n",
       "          10.583006 ,   20.991535 ],\n",
       "       ...,\n",
       "       [   3.1278315,    2.276405 ,    3.3137722, ...,    5.9192305,\n",
       "           4.657548 ,    2.0677426],\n",
       "       [   4.8470707,    2.675071 ,    2.577607 , ...,   13.503    ,\n",
       "          13.435967 ,    7.1793947],\n",
       "       [   4.2935753,    2.4341059,    1.7580795, ...,   -3.2146842,\n",
       "          -3.330796 ,    1.3146564]], dtype=float32)"
      ]
     },
     "execution_count": 27,
     "metadata": {},
     "output_type": "execute_result"
    }
   ],
   "source": [
    "df_2_audio_vals[0]"
   ]
  },
  {
   "cell_type": "code",
   "execution_count": 28,
   "metadata": {
    "colab": {
     "base_uri": "https://localhost:8080/"
    },
    "id": "rRxDejxJdAjY",
    "outputId": "fea29c18-9809-4752-8dfd-ca3e90842854"
   },
   "outputs": [
    {
     "data": {
      "text/plain": [
       "387"
      ]
     },
     "execution_count": 28,
     "metadata": {},
     "output_type": "execute_result"
    }
   ],
   "source": [
    "columns_length = [aud.shape[1] for aud in df_2_audio_vals]\n",
    "max_col_len = max(columns_length)\n",
    "max_col_len"
   ]
  },
  {
   "cell_type": "code",
   "execution_count": 29,
   "metadata": {
    "id": "8almoFCYdDkB"
   },
   "outputs": [],
   "source": [
    "df_2_audio_vals_padded = df_2_audio_vals.copy()\n",
    "for ind, arr in enumerate(df_2_audio_vals_padded):\n",
    "  arr_sh = arr.shape[1]\n",
    "  zero_cols = max_col_len - arr_sh\n",
    "  zero_arr = np.zeros((arr.shape[0], zero_cols))\n",
    "  res_arr = np.hstack((arr, zero_arr))\n",
    "  df_2_audio_vals_padded[ind] = res_arr"
   ]
  },
  {
   "cell_type": "code",
   "execution_count": 30,
   "metadata": {
    "colab": {
     "base_uri": "https://localhost:8080/"
    },
    "id": "NjfMN1YddJf8",
    "outputId": "a1f32dd3-fa84-484e-890f-04c710c791f8"
   },
   "outputs": [
    {
     "data": {
      "text/plain": [
       "(20, 92)"
      ]
     },
     "execution_count": 30,
     "metadata": {},
     "output_type": "execute_result"
    }
   ],
   "source": [
    "df_2_audio_vals[20].shape"
   ]
  },
  {
   "cell_type": "code",
   "execution_count": 31,
   "metadata": {
    "colab": {
     "base_uri": "https://localhost:8080/"
    },
    "id": "6iX9dHI-dOCH",
    "outputId": "3c7d5354-1796-4a37-b995-fc594e3d5701"
   },
   "outputs": [
    {
     "data": {
      "text/plain": [
       "(20, 387)"
      ]
     },
     "execution_count": 31,
     "metadata": {},
     "output_type": "execute_result"
    }
   ],
   "source": [
    "df_2_audio_vals_padded[20].shape"
   ]
  },
  {
   "cell_type": "code",
   "execution_count": 32,
   "metadata": {
    "id": "5N4h2RCwdQzJ"
   },
   "outputs": [],
   "source": [
    "from sklearn.preprocessing import StandardScaler"
   ]
  },
  {
   "cell_type": "code",
   "execution_count": 33,
   "metadata": {
    "colab": {
     "base_uri": "https://localhost:8080/"
    },
    "id": "yM82zQkjdlho",
    "outputId": "9b32959c-e522-48d7-a78c-e9003428e611"
   },
   "outputs": [
    {
     "data": {
      "text/plain": [
       "array([[-573.01196  , -582.12134  , -586.8176   , ..., -492.71088  ,\n",
       "        -531.3699   , -549.42737  ],\n",
       "       [  40.869022 ,   42.113426 ,   34.175797 , ...,   80.3799   ,\n",
       "          71.04459  ,   57.802822 ],\n",
       "       [  22.214771 ,   30.598278 ,   32.493942 , ...,   -9.611155 ,\n",
       "          10.583006 ,   20.991535 ],\n",
       "       ...,\n",
       "       [   3.1278315,    2.276405 ,    3.3137722, ...,    5.9192305,\n",
       "           4.657548 ,    2.0677426],\n",
       "       [   4.8470707,    2.675071 ,    2.577607 , ...,   13.503    ,\n",
       "          13.435967 ,    7.1793947],\n",
       "       [   4.2935753,    2.4341059,    1.7580795, ...,   -3.2146842,\n",
       "          -3.330796 ,    1.3146564]], dtype=float32)"
      ]
     },
     "execution_count": 33,
     "metadata": {},
     "output_type": "execute_result"
    }
   ],
   "source": [
    "df_2_audio_vals[0]"
   ]
  },
  {
   "cell_type": "code",
   "execution_count": 34,
   "metadata": {
    "colab": {
     "base_uri": "https://localhost:8080/"
    },
    "id": "2fBAlfsjdn1i",
    "outputId": "2de5898a-9482-4201-e177-06c798044389"
   },
   "outputs": [
    {
     "data": {
      "text/plain": [
       "-9.868072"
      ]
     },
     "execution_count": 34,
     "metadata": {},
     "output_type": "execute_result"
    }
   ],
   "source": [
    "np.mean(df_2_audio_vals[0])"
   ]
  },
  {
   "cell_type": "code",
   "execution_count": 35,
   "metadata": {
    "colab": {
     "base_uri": "https://localhost:8080/"
    },
    "id": "2GqneaG7drOs",
    "outputId": "c7032639-c9fe-4c6c-9e72-f0abdd2e0c6f"
   },
   "outputs": [
    {
     "data": {
      "text/plain": [
       "(20, 225)"
      ]
     },
     "execution_count": 35,
     "metadata": {},
     "output_type": "execute_result"
    }
   ],
   "source": [
    "scaler = StandardScaler()\n",
    "# df_2['audio'] = df_2['audio'].apply(lambda x : scaler.fit_transform(x))\n",
    "for ind, aud in enumerate(df_2_audio_vals):\n",
    "  df_2_audio_vals[ind] = scaler.fit_transform(df_2_audio_vals[ind])\n",
    "  df_2_audio_vals_padded[ind] = scaler.fit_transform(df_2_audio_vals_padded[ind])\n",
    "df_2_audio_vals[230].shape"
   ]
  },
  {
   "cell_type": "code",
   "execution_count": 36,
   "metadata": {
    "id": "yFewHiQ5d4qQ"
   },
   "outputs": [],
   "source": [
    "df_2 = pd.DataFrame(\n",
    "    {\n",
    "        'audio': df_2_audio_vals_padded,\n",
    "        'labels': labels\n",
    "    }\n",
    ")"
   ]
  },
  {
   "cell_type": "code",
   "execution_count": 37,
   "metadata": {
    "id": "t-DAlOsLd9rR"
   },
   "outputs": [],
   "source": [
    "df_2_unpad = pd.DataFrame(\n",
    "    {\n",
    "        'audio':df_2_audio_vals,\n",
    "        'labels':labels\n",
    "    }\n",
    ")"
   ]
  },
  {
   "cell_type": "code",
   "execution_count": 38,
   "metadata": {
    "colab": {
     "base_uri": "https://localhost:8080/",
     "height": 423
    },
    "id": "5m85qiXneBek",
    "outputId": "d2311e97-76e8-47b9-8877-911f4dc72dce"
   },
   "outputs": [
    {
     "data": {
      "text/html": [
       "<div>\n",
       "<style scoped>\n",
       "    .dataframe tbody tr th:only-of-type {\n",
       "        vertical-align: middle;\n",
       "    }\n",
       "\n",
       "    .dataframe tbody tr th {\n",
       "        vertical-align: top;\n",
       "    }\n",
       "\n",
       "    .dataframe thead th {\n",
       "        text-align: right;\n",
       "    }\n",
       "</style>\n",
       "<table border=\"1\" class=\"dataframe\">\n",
       "  <thead>\n",
       "    <tr style=\"text-align: right;\">\n",
       "      <th></th>\n",
       "      <th>audio</th>\n",
       "      <th>labels</th>\n",
       "    </tr>\n",
       "  </thead>\n",
       "  <tbody>\n",
       "    <tr>\n",
       "      <th>0</th>\n",
       "      <td>[[-4.345240606636697, -4.345280245505488, -4.3...</td>\n",
       "      <td>4</td>\n",
       "    </tr>\n",
       "    <tr>\n",
       "      <th>1</th>\n",
       "      <td>[[-4.3273671723845375, -4.297923112827706, -4....</td>\n",
       "      <td>6</td>\n",
       "    </tr>\n",
       "    <tr>\n",
       "      <th>2</th>\n",
       "      <td>[[-4.357944622291275, -4.355985900723285, -4.3...</td>\n",
       "      <td>0</td>\n",
       "    </tr>\n",
       "    <tr>\n",
       "      <th>3</th>\n",
       "      <td>[[-4.3036640193906965, -4.272188294612251, -4....</td>\n",
       "      <td>4</td>\n",
       "    </tr>\n",
       "    <tr>\n",
       "      <th>4</th>\n",
       "      <td>[[-4.351372638345867, -4.343620000765398, -4.3...</td>\n",
       "      <td>6</td>\n",
       "    </tr>\n",
       "    <tr>\n",
       "      <th>...</th>\n",
       "      <td>...</td>\n",
       "      <td>...</td>\n",
       "    </tr>\n",
       "    <tr>\n",
       "      <th>530</th>\n",
       "      <td>[[-4.253246113927521, -4.2693504117850125, -4....</td>\n",
       "      <td>1</td>\n",
       "    </tr>\n",
       "    <tr>\n",
       "      <th>531</th>\n",
       "      <td>[[-4.32137243562459, -4.329907616419353, -4.33...</td>\n",
       "      <td>5</td>\n",
       "    </tr>\n",
       "    <tr>\n",
       "      <th>532</th>\n",
       "      <td>[[-4.310066644173442, -4.330933367137214, -4.3...</td>\n",
       "      <td>5</td>\n",
       "    </tr>\n",
       "    <tr>\n",
       "      <th>533</th>\n",
       "      <td>[[-4.3412139053771375, -4.3357660491362955, -4...</td>\n",
       "      <td>0</td>\n",
       "    </tr>\n",
       "    <tr>\n",
       "      <th>534</th>\n",
       "      <td>[[-4.339317445845838, -4.341516229273682, -4.2...</td>\n",
       "      <td>0</td>\n",
       "    </tr>\n",
       "  </tbody>\n",
       "</table>\n",
       "<p>535 rows × 2 columns</p>\n",
       "</div>"
      ],
      "text/plain": [
       "                                                 audio  labels\n",
       "0    [[-4.345240606636697, -4.345280245505488, -4.3...       4\n",
       "1    [[-4.3273671723845375, -4.297923112827706, -4....       6\n",
       "2    [[-4.357944622291275, -4.355985900723285, -4.3...       0\n",
       "3    [[-4.3036640193906965, -4.272188294612251, -4....       4\n",
       "4    [[-4.351372638345867, -4.343620000765398, -4.3...       6\n",
       "..                                                 ...     ...\n",
       "530  [[-4.253246113927521, -4.2693504117850125, -4....       1\n",
       "531  [[-4.32137243562459, -4.329907616419353, -4.33...       5\n",
       "532  [[-4.310066644173442, -4.330933367137214, -4.3...       5\n",
       "533  [[-4.3412139053771375, -4.3357660491362955, -4...       0\n",
       "534  [[-4.339317445845838, -4.341516229273682, -4.2...       0\n",
       "\n",
       "[535 rows x 2 columns]"
      ]
     },
     "execution_count": 38,
     "metadata": {},
     "output_type": "execute_result"
    }
   ],
   "source": [
    "df_2"
   ]
  },
  {
   "cell_type": "code",
   "execution_count": 39,
   "metadata": {
    "colab": {
     "base_uri": "https://localhost:8080/"
    },
    "id": "JLcWDTF0eFWD",
    "outputId": "abe2b0e8-839f-42ca-c7ae-e33c232eeb33"
   },
   "outputs": [
    {
     "data": {
      "text/plain": [
       "(20, 387)"
      ]
     },
     "execution_count": 39,
     "metadata": {},
     "output_type": "execute_result"
    }
   ],
   "source": [
    "df_2['audio'][0].shape"
   ]
  },
  {
   "cell_type": "code",
   "execution_count": 40,
   "metadata": {
    "id": "wR7kfcjDeKCk"
   },
   "outputs": [],
   "source": [
    "df_2_flattened = df_2.copy()\n",
    "df_2_flattened['audio'] = df_2_flattened['audio'].apply(lambda x : x.reshape(-1))"
   ]
  },
  {
   "cell_type": "code",
   "execution_count": 41,
   "metadata": {
    "colab": {
     "base_uri": "https://localhost:8080/"
    },
    "id": "V5Soo3gGeNWV",
    "outputId": "65709578-b34e-44b2-e69d-d42d6f3ed441"
   },
   "outputs": [
    {
     "data": {
      "text/plain": [
       "array([[-4.34524061, -4.34528025, -4.34747162, ...,  0.        ,\n",
       "         0.        ,  0.        ],\n",
       "       [ 0.46126633,  0.46104864,  0.40148468, ...,  0.        ,\n",
       "         0.        ,  0.        ],\n",
       "       [ 0.31520905,  0.37238714,  0.38862294, ...,  0.        ,\n",
       "         0.        ,  0.        ],\n",
       "       ...,\n",
       "       [ 0.16576394,  0.15432137,  0.16547186, ...,  0.        ,\n",
       "         0.        ,  0.        ],\n",
       "       [ 0.17922508,  0.15739092,  0.15984215, ...,  0.        ,\n",
       "         0.        ,  0.        ],\n",
       "       [ 0.17489137,  0.1555356 ,  0.15357493, ...,  0.        ,\n",
       "         0.        ,  0.        ]])"
      ]
     },
     "execution_count": 41,
     "metadata": {},
     "output_type": "execute_result"
    }
   ],
   "source": [
    "df_2['audio'][0]"
   ]
  },
  {
   "cell_type": "code",
   "execution_count": 42,
   "metadata": {
    "colab": {
     "base_uri": "https://localhost:8080/"
    },
    "id": "D7WakJskeTTD",
    "outputId": "db6e7741-ed06-4d69-a198-74c9fb661d0b"
   },
   "outputs": [
    {
     "data": {
      "text/plain": [
       "0      [-4.345240606636697, -4.345280245505488, -4.34...\n",
       "1      [-4.3273671723845375, -4.297923112827706, -4.3...\n",
       "2      [-4.357944622291275, -4.355985900723285, -4.35...\n",
       "3      [-4.3036640193906965, -4.272188294612251, -4.2...\n",
       "4      [-4.351372638345867, -4.343620000765398, -4.34...\n",
       "                             ...                        \n",
       "530    [-4.253246113927521, -4.2693504117850125, -4.3...\n",
       "531    [-4.32137243562459, -4.329907616419353, -4.334...\n",
       "532    [-4.310066644173442, -4.330933367137214, -4.33...\n",
       "533    [-4.3412139053771375, -4.3357660491362955, -4....\n",
       "534    [-4.339317445845838, -4.341516229273682, -4.23...\n",
       "Name: audio, Length: 535, dtype: object"
      ]
     },
     "execution_count": 42,
     "metadata": {},
     "output_type": "execute_result"
    }
   ],
   "source": [
    "X = df_2_flattened['audio']\n",
    "X"
   ]
  },
  {
   "cell_type": "code",
   "execution_count": 43,
   "metadata": {
    "colab": {
     "base_uri": "https://localhost:8080/"
    },
    "id": "SnOEEzbseWvd",
    "outputId": "6645be3c-dd31-431d-a480-0ecf17548613"
   },
   "outputs": [
    {
     "data": {
      "text/plain": [
       "(7740,)"
      ]
     },
     "execution_count": 43,
     "metadata": {},
     "output_type": "execute_result"
    }
   ],
   "source": [
    "X[100].shape"
   ]
  },
  {
   "cell_type": "code",
   "execution_count": 44,
   "metadata": {
    "colab": {
     "base_uri": "https://localhost:8080/"
    },
    "id": "VZ2nVkv5eaxI",
    "outputId": "72b15714-4875-4260-8eb7-589e9db60593"
   },
   "outputs": [
    {
     "data": {
      "text/plain": [
       "array([-4.34524061, -4.34528025, -4.34747162, -4.34862713, -4.12832415,\n",
       "       -3.44958203, -2.30371533, -1.59507488, -2.06477989, -2.82791621,\n",
       "       -3.24565281, -3.75888287, -3.9565561 , -4.00332808, -3.20928873,\n",
       "       -1.80199406, -1.0287318 , -1.1477509 , -2.20792443, -3.77053317,\n",
       "       -4.29868438, -4.27617214, -4.17269383, -4.15897386, -4.01921061,\n",
       "       -3.70239728, -3.67666106, -3.94043642, -4.00283266, -3.98774536,\n",
       "       -3.71177446, -3.55994192, -3.71672674, -3.96277269, -4.07402734,\n",
       "       -4.20475592, -3.85236633, -3.45667476, -2.98541137, -2.50033813,\n",
       "       -2.70004905, -3.42482658, -3.87614122, -4.026658  , -3.61206565,\n",
       "       -3.4429258 , -3.59069724, -3.68338894, -3.7318287 , -3.77608548,\n",
       "       -3.771266  , -2.78535423, -2.11382962, -2.05591369, -2.47966499,\n",
       "       -3.14378193, -3.6463544 , -3.87301014, -3.8482288 , -3.79926512,\n",
       "       -3.6233864 , -3.46345747, -3.38203189, -3.34327241, -3.63399807,\n",
       "       -4.04529309, -3.69758579, -3.10233814, -2.90946856, -2.88685244,\n",
       "       -2.99463398, -3.48082667, -3.93108113, -4.01159027, -3.98501619,\n",
       "       -3.93241704, -4.03209336, -4.19152204, -4.24663556, -4.2883533 ,\n",
       "       -4.31700189, -4.33367399,  0.        ,  0.        ,  0.        ,\n",
       "        0.        ,  0.        ,  0.        ,  0.        ,  0.        ,\n",
       "        0.        ,  0.        ,  0.        ,  0.        ,  0.        ,\n",
       "        0.        ,  0.        ,  0.        ,  0.        ,  0.        ,\n",
       "        0.        ,  0.        ,  0.        ,  0.        ,  0.        ,\n",
       "        0.        ,  0.        ,  0.        ,  0.        ,  0.        ,\n",
       "        0.        ,  0.        ,  0.        ,  0.        ,  0.        ,\n",
       "        0.        ,  0.        ,  0.        ,  0.        ,  0.        ,\n",
       "        0.        ,  0.        ,  0.        ,  0.        ,  0.        ,\n",
       "        0.        ,  0.        ,  0.        ,  0.        ,  0.        ,\n",
       "        0.        ,  0.        ,  0.        ,  0.        ,  0.        ,\n",
       "        0.        ,  0.        ,  0.        ,  0.        ,  0.        ,\n",
       "        0.        ,  0.        ,  0.        ,  0.        ,  0.        ,\n",
       "        0.        ,  0.        ,  0.        ,  0.        ,  0.        ,\n",
       "        0.        ,  0.        ,  0.        ,  0.        ,  0.        ,\n",
       "        0.        ,  0.        ,  0.        ,  0.        ,  0.        ,\n",
       "        0.        ,  0.        ,  0.        ,  0.        ,  0.        ,\n",
       "        0.        ,  0.        ,  0.        ,  0.        ,  0.        ,\n",
       "        0.        ,  0.        ,  0.        ,  0.        ,  0.        ,\n",
       "        0.        ,  0.        ,  0.        ,  0.        ,  0.        ,\n",
       "        0.        ,  0.        ,  0.        ,  0.        ,  0.        ,\n",
       "        0.        ,  0.        ,  0.        ,  0.        ,  0.        ,\n",
       "        0.        ,  0.        ,  0.        ,  0.        ,  0.        ,\n",
       "        0.        ,  0.        ,  0.        ,  0.        ,  0.        ,\n",
       "        0.        ,  0.        ,  0.        ,  0.        ,  0.        ,\n",
       "        0.        ,  0.        ,  0.        ,  0.        ,  0.        ,\n",
       "        0.        ,  0.        ,  0.        ,  0.        ,  0.        ,\n",
       "        0.        ,  0.        ,  0.        ,  0.        ,  0.        ,\n",
       "        0.        ,  0.        ,  0.        ,  0.        ,  0.        ,\n",
       "        0.        ,  0.        ,  0.        ,  0.        ,  0.        ,\n",
       "        0.        ,  0.        ,  0.        ,  0.        ,  0.        ,\n",
       "        0.        ,  0.        ,  0.        ,  0.        ,  0.        ,\n",
       "        0.        ,  0.        ,  0.        ,  0.        ,  0.        ,\n",
       "        0.        ,  0.        ,  0.        ,  0.        ,  0.        ,\n",
       "        0.        ,  0.        ,  0.        ,  0.        ,  0.        ,\n",
       "        0.        ,  0.        ,  0.        ,  0.        ,  0.        ,\n",
       "        0.        ,  0.        ,  0.        ,  0.        ,  0.        ,\n",
       "        0.        ,  0.        ,  0.        ,  0.        ,  0.        ,\n",
       "        0.        ,  0.        ,  0.        ,  0.        ,  0.        ,\n",
       "        0.        ,  0.        ,  0.        ,  0.        ,  0.        ,\n",
       "        0.        ,  0.        ,  0.        ,  0.        ,  0.        ,\n",
       "        0.        ,  0.        ,  0.        ,  0.        ,  0.        ,\n",
       "        0.        ,  0.        ,  0.        ,  0.        ,  0.        ,\n",
       "        0.        ,  0.        ,  0.        ,  0.        ,  0.        ,\n",
       "        0.        ,  0.        ,  0.        ,  0.        ,  0.        ,\n",
       "        0.        ,  0.        ,  0.        ,  0.        ,  0.        ,\n",
       "        0.        ,  0.        ,  0.        ,  0.        ,  0.        ,\n",
       "        0.        ,  0.        ,  0.        ,  0.        ,  0.        ,\n",
       "        0.        ,  0.        ,  0.        ,  0.        ,  0.        ,\n",
       "        0.        ,  0.        ,  0.        ,  0.        ,  0.        ,\n",
       "        0.        ,  0.        ,  0.        ,  0.        ,  0.        ,\n",
       "        0.        ,  0.        ,  0.        ,  0.        ,  0.        ,\n",
       "        0.        ,  0.        ,  0.        ,  0.        ,  0.        ,\n",
       "        0.        ,  0.        ,  0.        ,  0.        ,  0.        ,\n",
       "        0.        ,  0.        ,  0.        ,  0.        ,  0.        ,\n",
       "        0.        ,  0.        ,  0.        ,  0.        ,  0.        ,\n",
       "        0.        ,  0.        ,  0.        ,  0.        ,  0.        ,\n",
       "        0.        ,  0.        ,  0.        ,  0.        ,  0.        ,\n",
       "        0.        ,  0.        ,  0.        ,  0.        ,  0.        ,\n",
       "        0.        ,  0.        ,  0.        ,  0.        ,  0.        ,\n",
       "        0.        ,  0.        ,  0.        ,  0.        ,  0.        ,\n",
       "        0.        ,  0.        ])"
      ]
     },
     "execution_count": 44,
     "metadata": {},
     "output_type": "execute_result"
    }
   ],
   "source": [
    "df_2['audio'][0][0]"
   ]
  },
  {
   "cell_type": "code",
   "execution_count": 45,
   "metadata": {
    "colab": {
     "base_uri": "https://localhost:8080/"
    },
    "id": "QBzhSsw_ee0u",
    "outputId": "b024d3ca-8970-48e4-c075-d19d14048501"
   },
   "outputs": [
    {
     "data": {
      "text/plain": [
       "array([[-4.34524061, -4.34528025, -4.34747162, ...,  0.        ,\n",
       "         0.        ,  0.        ],\n",
       "       [ 0.46126633,  0.46104864,  0.40148468, ...,  0.        ,\n",
       "         0.        ,  0.        ],\n",
       "       [ 0.31520905,  0.37238714,  0.38862294, ...,  0.        ,\n",
       "         0.        ,  0.        ],\n",
       "       ...,\n",
       "       [ 0.16576394,  0.15432137,  0.16547186, ...,  0.        ,\n",
       "         0.        ,  0.        ],\n",
       "       [ 0.17922508,  0.15739092,  0.15984215, ...,  0.        ,\n",
       "         0.        ,  0.        ],\n",
       "       [ 0.17489137,  0.1555356 ,  0.15357493, ...,  0.        ,\n",
       "         0.        ,  0.        ]])"
      ]
     },
     "execution_count": 45,
     "metadata": {},
     "output_type": "execute_result"
    }
   ],
   "source": [
    "df_2['audio'][0]"
   ]
  },
  {
   "cell_type": "code",
   "execution_count": 46,
   "metadata": {
    "colab": {
     "base_uri": "https://localhost:8080/"
    },
    "id": "0SLCvU8AekRC",
    "outputId": "c548bf83-7186-4663-a6c5-5b77cc176830"
   },
   "outputs": [
    {
     "data": {
      "text/plain": [
       "0      4\n",
       "1      6\n",
       "2      0\n",
       "3      4\n",
       "4      6\n",
       "      ..\n",
       "530    1\n",
       "531    5\n",
       "532    5\n",
       "533    0\n",
       "534    0\n",
       "Name: labels, Length: 535, dtype: int64"
      ]
     },
     "execution_count": 46,
     "metadata": {},
     "output_type": "execute_result"
    }
   ],
   "source": [
    "y = df_2['labels']\n",
    "y"
   ]
  },
  {
   "cell_type": "code",
   "execution_count": 47,
   "metadata": {
    "id": "1TezcGE3enfc"
   },
   "outputs": [],
   "source": [
    "from sklearn.model_selection import train_test_split"
   ]
  },
  {
   "cell_type": "code",
   "execution_count": 48,
   "metadata": {
    "id": "L8VDqrWMerf8"
   },
   "outputs": [],
   "source": [
    "X_train, X_test, y_train, y_test = train_test_split(X, y, test_size=0.1)"
   ]
  },
  {
   "cell_type": "code",
   "execution_count": 49,
   "metadata": {
    "id": "O_CADGmxevZY"
   },
   "outputs": [
    {
     "name": "stdout",
     "output_type": "stream",
     "text": [
      "WARNING:tensorflow:From C:\\Users\\91824\\AppData\\Local\\Packages\\PythonSoftwareFoundation.Python.3.10_qbz5n2kfra8p0\\LocalCache\\local-packages\\Python310\\site-packages\\keras\\src\\losses.py:2976: The name tf.losses.sparse_softmax_cross_entropy is deprecated. Please use tf.compat.v1.losses.sparse_softmax_cross_entropy instead.\n",
      "\n"
     ]
    }
   ],
   "source": [
    "import tensorflow as tf\n",
    "import sklearn\n",
    "from tensorflow import keras\n",
    "from tensorflow.keras.layers import Bidirectional, LSTM\n",
    "from tensorflow.keras import layers\n",
    "from tensorflow.keras import models\n",
    "from tensorflow.keras.models import load_model"
   ]
  },
  {
   "cell_type": "code",
   "execution_count": 50,
   "metadata": {
    "id": "E-lC6f-ve2eu"
   },
   "outputs": [],
   "source": [
    "X_train_arr = X_train.to_numpy()\n",
    "X_train_res = X_train_arr.flatten()\n",
    "X_train_tens = tf.stack(X_train_res)"
   ]
  },
  {
   "cell_type": "code",
   "execution_count": 51,
   "metadata": {
    "id": "mnxFtOcvfD9N"
   },
   "outputs": [],
   "source": [
    "X_test_res = X_test.to_numpy().flatten()\n",
    "X_test_tens = tf.stack(X_test_res)"
   ]
  },
  {
   "cell_type": "code",
   "execution_count": 52,
   "metadata": {
    "id": "fQv-d9C7fKXO"
   },
   "outputs": [],
   "source": [
    "X_train_tensor_res = np.reshape(X_train_tens, (X_train_tens.shape[0], 1, X_train_tens.shape[1]))"
   ]
  },
  {
   "cell_type": "code",
   "execution_count": 53,
   "metadata": {
    "id": "tPSjYHjtfPny"
   },
   "outputs": [],
   "source": [
    "X_test_tensor_res = np.reshape(X_test_tens, (X_test_tens.shape[0], 1, X_test_tens.shape[1]))"
   ]
  },
  {
   "cell_type": "code",
   "execution_count": 54,
   "metadata": {
    "id": "rYg2HZIFfTee"
   },
   "outputs": [],
   "source": [
    "y_train_one_hot = tf.one_hot(y_train, 7)"
   ]
  },
  {
   "cell_type": "code",
   "execution_count": 55,
   "metadata": {
    "colab": {
     "base_uri": "https://localhost:8080/"
    },
    "id": "ovjzsCfVfW13",
    "outputId": "1e4e2f4c-beaf-4377-8b1a-778d99409b98"
   },
   "outputs": [
    {
     "data": {
      "text/plain": [
       "TensorShape([481, 7])"
      ]
     },
     "execution_count": 55,
     "metadata": {},
     "output_type": "execute_result"
    }
   ],
   "source": [
    "y_train_one_hot.shape"
   ]
  },
  {
   "cell_type": "code",
   "execution_count": 56,
   "metadata": {
    "id": "AEXnO0bTfblL"
   },
   "outputs": [],
   "source": [
    "y_test_one_hot = tf.one_hot(y_test, 7)"
   ]
  },
  {
   "cell_type": "code",
   "execution_count": 57,
   "metadata": {
    "id": "CyEFP1smRDk4"
   },
   "outputs": [
    {
     "data": {
      "text/plain": [
       "(481,)"
      ]
     },
     "execution_count": 57,
     "metadata": {},
     "output_type": "execute_result"
    }
   ],
   "source": [
    "X_train_arr.shape"
   ]
  },
  {
   "cell_type": "code",
   "execution_count": 62,
   "metadata": {
    "id": "K6IzLySHffNM"
   },
   "outputs": [],
   "source": [
    "model = tf.keras.Sequential()\n",
    "\n",
    "model.add(Bidirectional(LSTM(units = 512 , return_sequences = True), input_shape = (None,7740),))\n",
    "model.add(layers.Dropout(0.7))\n",
    "model.add(layers.Bidirectional(layers.GRU(512, return_sequences = True),))\n",
    "model.add(layers.Dropout(0.7))\n",
    "model.add(layers.Bidirectional(layers.LSTM(units = 1024, return_sequences = True)))\n",
    "model.add(layers.Dropout(0.9))\n",
    "model.add(layers.Bidirectional(layers.LSTM(units = 512, return_sequences = True)))\n",
    "model.add(Bidirectional(layers.GRU(512)))\n",
    "model.add(layers.Dense(7, activation = 'sigmoid'))\n"
   ]
  },
  {
   "cell_type": "code",
   "execution_count": 63,
   "metadata": {
    "id": "63a-iZYzfrwu"
   },
   "outputs": [],
   "source": [
    "model.build((X_train_tens))"
   ]
  },
  {
   "cell_type": "code",
   "execution_count": 64,
   "metadata": {
    "colab": {
     "base_uri": "https://localhost:8080/"
    },
    "id": "v36Ea2M5fx1g",
    "outputId": "9d87675a-998d-46c4-e978-2a7f85f14fde"
   },
   "outputs": [
    {
     "name": "stdout",
     "output_type": "stream",
     "text": [
      "Model: \"sequential_4\"\n",
      "_________________________________________________________________\n",
      " Layer (type)                Output Shape              Param #   \n",
      "=================================================================\n",
      " bidirectional_3 (Bidirecti  (None, None, 1024)        33804288  \n",
      " onal)                                                           \n",
      "                                                                 \n",
      " dropout (Dropout)           (None, None, 1024)        0         \n",
      "                                                                 \n",
      " bidirectional_4 (Bidirecti  (None, None, 1024)        4724736   \n",
      " onal)                                                           \n",
      "                                                                 \n",
      " dropout_1 (Dropout)         (None, None, 1024)        0         \n",
      "                                                                 \n",
      " bidirectional_5 (Bidirecti  (None, None, 2048)        16785408  \n",
      " onal)                                                           \n",
      "                                                                 \n",
      " dropout_2 (Dropout)         (None, None, 2048)        0         \n",
      "                                                                 \n",
      " bidirectional_6 (Bidirecti  (None, None, 1024)        10489856  \n",
      " onal)                                                           \n",
      "                                                                 \n",
      " bidirectional_7 (Bidirecti  (None, 1024)              4724736   \n",
      " onal)                                                           \n",
      "                                                                 \n",
      " dense (Dense)               (None, 7)                 7175      \n",
      "                                                                 \n",
      "=================================================================\n",
      "Total params: 70536199 (269.07 MB)\n",
      "Trainable params: 70536199 (269.07 MB)\n",
      "Non-trainable params: 0 (0.00 Byte)\n",
      "_________________________________________________________________\n"
     ]
    }
   ],
   "source": [
    "model.summary()"
   ]
  },
  {
   "cell_type": "code",
   "execution_count": 65,
   "metadata": {
    "id": "Zq91gE_3f0sA"
   },
   "outputs": [],
   "source": [
    "model.compile(\n",
    "    loss = keras.losses.CategoricalCrossentropy(),\n",
    "    optimizer = keras.optimizers.Adam(learning_rate = 0.0001),\n",
    "    metrics = ['accuracy', 'FalseNegatives', 'FalsePositives', 'Precision', 'Recall']\n",
    ")"
   ]
  },
  {
   "cell_type": "code",
   "execution_count": 66,
   "metadata": {
    "colab": {
     "base_uri": "https://localhost:8080/"
    },
    "id": "MeDLefstgOr6",
    "outputId": "2efe01c8-43fc-491e-a24b-85c7ba9b7757"
   },
   "outputs": [
    {
     "name": "stdout",
     "output_type": "stream",
     "text": [
      "Epoch 1/80\n",
      "WARNING:tensorflow:From C:\\Users\\91824\\AppData\\Local\\Packages\\PythonSoftwareFoundation.Python.3.10_qbz5n2kfra8p0\\LocalCache\\local-packages\\Python310\\site-packages\\keras\\src\\utils\\tf_utils.py:492: The name tf.ragged.RaggedTensorValue is deprecated. Please use tf.compat.v1.ragged.RaggedTensorValue instead.\n",
      "\n",
      "WARNING:tensorflow:From C:\\Users\\91824\\AppData\\Local\\Packages\\PythonSoftwareFoundation.Python.3.10_qbz5n2kfra8p0\\LocalCache\\local-packages\\Python310\\site-packages\\keras\\src\\engine\\base_layer_utils.py:384: The name tf.executing_eagerly_outside_functions is deprecated. Please use tf.compat.v1.executing_eagerly_outside_functions instead.\n",
      "\n",
      "9/9 - 48s - loss: 1.9434 - accuracy: 0.1690 - false_negatives: 191.0000 - false_positives: 1260.0000 - precision: 0.1606 - recall: 0.5579 - val_loss: 1.9451 - val_accuracy: 0.1429 - val_false_negatives: 26.0000 - val_false_positives: 135.0000 - val_precision: 0.1456 - val_recall: 0.4694 - 48s/epoch - 5s/step\n",
      "Epoch 2/80\n",
      "9/9 - 13s - loss: 1.9382 - accuracy: 0.2384 - false_negatives: 188.0000 - false_positives: 1150.0000 - precision: 0.1750 - recall: 0.5648 - val_loss: 1.9438 - val_accuracy: 0.1429 - val_false_negatives: 30.0000 - val_false_positives: 100.0000 - val_precision: 0.1597 - val_recall: 0.3878 - 13s/epoch - 1s/step\n",
      "Epoch 3/80\n",
      "9/9 - 13s - loss: 1.9320 - accuracy: 0.2407 - false_negatives: 210.0000 - false_positives: 1043.0000 - precision: 0.1755 - recall: 0.5139 - val_loss: 1.9430 - val_accuracy: 0.1429 - val_false_negatives: 30.0000 - val_false_positives: 103.0000 - val_precision: 0.1557 - val_recall: 0.3878 - 13s/epoch - 1s/step\n",
      "Epoch 4/80\n",
      "9/9 - 13s - loss: 1.9219 - accuracy: 0.2454 - false_negatives: 198.0000 - false_positives: 1022.0000 - precision: 0.1863 - recall: 0.5417 - val_loss: 1.9424 - val_accuracy: 0.1429 - val_false_negatives: 31.0000 - val_false_positives: 96.0000 - val_precision: 0.1579 - val_recall: 0.3673 - 13s/epoch - 1s/step\n",
      "Epoch 5/80\n",
      "9/9 - 13s - loss: 1.9069 - accuracy: 0.2431 - false_negatives: 207.0000 - false_positives: 929.0000 - precision: 0.1950 - recall: 0.5208 - val_loss: 1.9418 - val_accuracy: 0.1429 - val_false_negatives: 31.0000 - val_false_positives: 98.0000 - val_precision: 0.1552 - val_recall: 0.3673 - 13s/epoch - 1s/step\n",
      "Epoch 6/80\n",
      "9/9 - 13s - loss: 1.8852 - accuracy: 0.2454 - false_negatives: 209.0000 - false_positives: 946.0000 - precision: 0.1908 - recall: 0.5162 - val_loss: 1.9466 - val_accuracy: 0.1429 - val_false_negatives: 31.0000 - val_false_positives: 101.0000 - val_precision: 0.1513 - val_recall: 0.3673 - 13s/epoch - 1s/step\n",
      "Epoch 7/80\n",
      "9/9 - 13s - loss: 1.8620 - accuracy: 0.2500 - false_negatives: 181.0000 - false_positives: 1010.0000 - precision: 0.1990 - recall: 0.5810 - val_loss: 1.9514 - val_accuracy: 0.1429 - val_false_negatives: 20.0000 - val_false_positives: 122.0000 - val_precision: 0.1921 - val_recall: 0.5918 - 13s/epoch - 1s/step\n",
      "Epoch 8/80\n",
      "9/9 - 12s - loss: 1.8088 - accuracy: 0.2917 - false_negatives: 124.0000 - false_positives: 1187.0000 - precision: 0.2060 - recall: 0.7130 - val_loss: 1.9055 - val_accuracy: 0.1633 - val_false_negatives: 10.0000 - val_false_positives: 177.0000 - val_precision: 0.1806 - val_recall: 0.7959 - 12s/epoch - 1s/step\n",
      "Epoch 9/80\n",
      "9/9 - 12s - loss: 1.7443 - accuracy: 0.3218 - false_negatives: 67.0000 - false_positives: 1389.0000 - precision: 0.2081 - recall: 0.8449 - val_loss: 1.8482 - val_accuracy: 0.1837 - val_false_negatives: 9.0000 - val_false_positives: 183.0000 - val_precision: 0.1794 - val_recall: 0.8163 - 12s/epoch - 1s/step\n",
      "Epoch 10/80\n",
      "9/9 - 12s - loss: 1.6506 - accuracy: 0.3449 - false_negatives: 50.0000 - false_positives: 1401.0000 - precision: 0.2142 - recall: 0.8843 - val_loss: 1.7399 - val_accuracy: 0.2041 - val_false_negatives: 10.0000 - val_false_positives: 154.0000 - val_precision: 0.2021 - val_recall: 0.7959 - 12s/epoch - 1s/step\n",
      "Epoch 11/80\n",
      "9/9 - 12s - loss: 1.5275 - accuracy: 0.3681 - false_negatives: 42.0000 - false_positives: 1237.0000 - precision: 0.2397 - recall: 0.9028 - val_loss: 1.6965 - val_accuracy: 0.3061 - val_false_negatives: 6.0000 - val_false_positives: 129.0000 - val_precision: 0.2500 - val_recall: 0.8776 - 12s/epoch - 1s/step\n",
      "Epoch 12/80\n",
      "9/9 - 13s - loss: 1.4350 - accuracy: 0.3843 - false_negatives: 40.0000 - false_positives: 1167.0000 - precision: 0.2514 - recall: 0.9074 - val_loss: 1.5944 - val_accuracy: 0.3061 - val_false_negatives: 4.0000 - val_false_positives: 130.0000 - val_precision: 0.2571 - val_recall: 0.9184 - 13s/epoch - 1s/step\n",
      "Epoch 13/80\n",
      "9/9 - 12s - loss: 1.3553 - accuracy: 0.4375 - false_negatives: 36.0000 - false_positives: 1136.0000 - precision: 0.2585 - recall: 0.9167 - val_loss: 1.5172 - val_accuracy: 0.3265 - val_false_negatives: 5.0000 - val_false_positives: 131.0000 - val_precision: 0.2514 - val_recall: 0.8980 - 12s/epoch - 1s/step\n",
      "Epoch 14/80\n",
      "9/9 - 12s - loss: 1.2918 - accuracy: 0.4699 - false_negatives: 29.0000 - false_positives: 1119.0000 - precision: 0.2648 - recall: 0.9329 - val_loss: 1.5198 - val_accuracy: 0.3673 - val_false_negatives: 6.0000 - val_false_positives: 128.0000 - val_precision: 0.2515 - val_recall: 0.8776 - 12s/epoch - 1s/step\n",
      "Epoch 15/80\n",
      "9/9 - 12s - loss: 1.2329 - accuracy: 0.5162 - false_negatives: 33.0000 - false_positives: 1090.0000 - precision: 0.2680 - recall: 0.9236 - val_loss: 1.5098 - val_accuracy: 0.3469 - val_false_negatives: 6.0000 - val_false_positives: 128.0000 - val_precision: 0.2515 - val_recall: 0.8776 - 12s/epoch - 1s/step\n",
      "Epoch 16/80\n",
      "9/9 - 12s - loss: 1.1730 - accuracy: 0.5394 - false_negatives: 26.0000 - false_positives: 1100.0000 - precision: 0.2696 - recall: 0.9398 - val_loss: 1.5886 - val_accuracy: 0.4286 - val_false_negatives: 7.0000 - val_false_positives: 125.0000 - val_precision: 0.2515 - val_recall: 0.8571 - 12s/epoch - 1s/step\n",
      "Epoch 17/80\n",
      "9/9 - 12s - loss: 1.1559 - accuracy: 0.5347 - false_negatives: 22.0000 - false_positives: 1099.0000 - precision: 0.2717 - recall: 0.9491 - val_loss: 1.5063 - val_accuracy: 0.4082 - val_false_negatives: 5.0000 - val_false_positives: 127.0000 - val_precision: 0.2573 - val_recall: 0.8980 - 12s/epoch - 1s/step\n",
      "Epoch 18/80\n",
      "9/9 - 12s - loss: 1.1009 - accuracy: 0.5671 - false_negatives: 22.0000 - false_positives: 1102.0000 - precision: 0.2712 - recall: 0.9491 - val_loss: 1.4964 - val_accuracy: 0.4082 - val_false_negatives: 6.0000 - val_false_positives: 128.0000 - val_precision: 0.2515 - val_recall: 0.8776 - 12s/epoch - 1s/step\n",
      "Epoch 19/80\n",
      "9/9 - 12s - loss: 1.0744 - accuracy: 0.5394 - false_negatives: 16.0000 - false_positives: 1089.0000 - precision: 0.2764 - recall: 0.9630 - val_loss: 1.5416 - val_accuracy: 0.3673 - val_false_negatives: 4.0000 - val_false_positives: 131.0000 - val_precision: 0.2557 - val_recall: 0.9184 - 12s/epoch - 1s/step\n",
      "Epoch 20/80\n",
      "9/9 - 12s - loss: 1.0399 - accuracy: 0.5741 - false_negatives: 17.0000 - false_positives: 1125.0000 - precision: 0.2695 - recall: 0.9606 - val_loss: 1.5643 - val_accuracy: 0.4082 - val_false_negatives: 6.0000 - val_false_positives: 130.0000 - val_precision: 0.2486 - val_recall: 0.8776 - 12s/epoch - 1s/step\n",
      "Epoch 21/80\n",
      "9/9 - 13s - loss: 1.0369 - accuracy: 0.5787 - false_negatives: 12.0000 - false_positives: 1101.0000 - precision: 0.2761 - recall: 0.9722 - val_loss: 1.4168 - val_accuracy: 0.4490 - val_false_negatives: 4.0000 - val_false_positives: 127.0000 - val_precision: 0.2616 - val_recall: 0.9184 - 13s/epoch - 1s/step\n",
      "Epoch 22/80\n",
      "9/9 - 12s - loss: 0.9816 - accuracy: 0.5972 - false_negatives: 8.0000 - false_positives: 1101.0000 - precision: 0.2780 - recall: 0.9815 - val_loss: 1.5054 - val_accuracy: 0.4082 - val_false_negatives: 4.0000 - val_false_positives: 127.0000 - val_precision: 0.2616 - val_recall: 0.9184 - 12s/epoch - 1s/step\n",
      "Epoch 23/80\n",
      "9/9 - 12s - loss: 0.9477 - accuracy: 0.6111 - false_negatives: 8.0000 - false_positives: 1103.0000 - precision: 0.2777 - recall: 0.9815 - val_loss: 1.5062 - val_accuracy: 0.3878 - val_false_negatives: 4.0000 - val_false_positives: 128.0000 - val_precision: 0.2601 - val_recall: 0.9184 - 12s/epoch - 1s/step\n",
      "Epoch 24/80\n",
      "9/9 - 12s - loss: 0.9323 - accuracy: 0.5972 - false_negatives: 11.0000 - false_positives: 1089.0000 - precision: 0.2788 - recall: 0.9745 - val_loss: 1.4779 - val_accuracy: 0.4286 - val_false_negatives: 4.0000 - val_false_positives: 129.0000 - val_precision: 0.2586 - val_recall: 0.9184 - 12s/epoch - 1s/step\n",
      "Epoch 25/80\n",
      "9/9 - 12s - loss: 0.9405 - accuracy: 0.5949 - false_negatives: 10.0000 - false_positives: 1068.0000 - precision: 0.2832 - recall: 0.9769 - val_loss: 1.4735 - val_accuracy: 0.4694 - val_false_negatives: 4.0000 - val_false_positives: 129.0000 - val_precision: 0.2586 - val_recall: 0.9184 - 12s/epoch - 1s/step\n",
      "Epoch 26/80\n",
      "9/9 - 12s - loss: 0.9065 - accuracy: 0.6134 - false_negatives: 6.0000 - false_positives: 1089.0000 - precision: 0.2812 - recall: 0.9861 - val_loss: 1.5409 - val_accuracy: 0.4694 - val_false_negatives: 6.0000 - val_false_positives: 124.0000 - val_precision: 0.2575 - val_recall: 0.8776 - 12s/epoch - 1s/step\n",
      "Epoch 27/80\n",
      "9/9 - 12s - loss: 0.8239 - accuracy: 0.6435 - false_negatives: 5.0000 - false_positives: 1058.0000 - precision: 0.2875 - recall: 0.9884 - val_loss: 1.4343 - val_accuracy: 0.4898 - val_false_negatives: 4.0000 - val_false_positives: 128.0000 - val_precision: 0.2601 - val_recall: 0.9184 - 12s/epoch - 1s/step\n",
      "Epoch 28/80\n",
      "9/9 - 12s - loss: 0.8171 - accuracy: 0.6458 - false_negatives: 7.0000 - false_positives: 1055.0000 - precision: 0.2872 - recall: 0.9838 - val_loss: 1.4819 - val_accuracy: 0.4286 - val_false_negatives: 4.0000 - val_false_positives: 127.0000 - val_precision: 0.2616 - val_recall: 0.9184 - 12s/epoch - 1s/step\n",
      "Epoch 29/80\n",
      "9/9 - 12s - loss: 0.7891 - accuracy: 0.6690 - false_negatives: 2.0000 - false_positives: 1043.0000 - precision: 0.2919 - recall: 0.9954 - val_loss: 1.4840 - val_accuracy: 0.4490 - val_false_negatives: 5.0000 - val_false_positives: 123.0000 - val_precision: 0.2635 - val_recall: 0.8980 - 12s/epoch - 1s/step\n",
      "Epoch 30/80\n",
      "9/9 - 12s - loss: 0.7607 - accuracy: 0.6921 - false_negatives: 4.0000 - false_positives: 1040.0000 - precision: 0.2916 - recall: 0.9907 - val_loss: 1.5398 - val_accuracy: 0.4286 - val_false_negatives: 4.0000 - val_false_positives: 122.0000 - val_precision: 0.2695 - val_recall: 0.9184 - 12s/epoch - 1s/step\n",
      "Epoch 31/80\n",
      "9/9 - 12s - loss: 0.6855 - accuracy: 0.7106 - false_negatives: 0.0000e+00 - false_positives: 1020.0000 - precision: 0.2975 - recall: 1.0000 - val_loss: 1.5837 - val_accuracy: 0.4898 - val_false_negatives: 5.0000 - val_false_positives: 123.0000 - val_precision: 0.2635 - val_recall: 0.8980 - 12s/epoch - 1s/step\n",
      "Epoch 32/80\n",
      "9/9 - 12s - loss: 0.6849 - accuracy: 0.7130 - false_negatives: 2.0000 - false_positives: 1008.0000 - precision: 0.2990 - recall: 0.9954 - val_loss: 1.6577 - val_accuracy: 0.4286 - val_false_negatives: 5.0000 - val_false_positives: 121.0000 - val_precision: 0.2667 - val_recall: 0.8980 - 12s/epoch - 1s/step\n",
      "Epoch 33/80\n",
      "9/9 - 12s - loss: 0.6450 - accuracy: 0.7361 - false_negatives: 3.0000 - false_positives: 1002.0000 - precision: 0.2998 - recall: 0.9931 - val_loss: 1.6252 - val_accuracy: 0.4286 - val_false_negatives: 5.0000 - val_false_positives: 121.0000 - val_precision: 0.2667 - val_recall: 0.8980 - 12s/epoch - 1s/step\n",
      "Epoch 34/80\n",
      "9/9 - 12s - loss: 0.6036 - accuracy: 0.7523 - false_negatives: 2.0000 - false_positives: 991.0000 - precision: 0.3026 - recall: 0.9954 - val_loss: 1.6934 - val_accuracy: 0.4490 - val_false_negatives: 4.0000 - val_false_positives: 124.0000 - val_precision: 0.2663 - val_recall: 0.9184 - 12s/epoch - 1s/step\n",
      "Epoch 35/80\n",
      "9/9 - 12s - loss: 0.5765 - accuracy: 0.7755 - false_negatives: 2.0000 - false_positives: 980.0000 - precision: 0.3050 - recall: 0.9954 - val_loss: 1.7478 - val_accuracy: 0.4286 - val_false_negatives: 5.0000 - val_false_positives: 118.0000 - val_precision: 0.2716 - val_recall: 0.8980 - 12s/epoch - 1s/step\n",
      "Epoch 36/80\n",
      "9/9 - 12s - loss: 0.5689 - accuracy: 0.7708 - false_negatives: 0.0000e+00 - false_positives: 984.0000 - precision: 0.3051 - recall: 1.0000 - val_loss: 1.6957 - val_accuracy: 0.4286 - val_false_negatives: 5.0000 - val_false_positives: 119.0000 - val_precision: 0.2699 - val_recall: 0.8980 - 12s/epoch - 1s/step\n",
      "Epoch 37/80\n",
      "9/9 - 12s - loss: 0.5072 - accuracy: 0.8241 - false_negatives: 0.0000e+00 - false_positives: 970.0000 - precision: 0.3081 - recall: 1.0000 - val_loss: 1.7825 - val_accuracy: 0.4694 - val_false_negatives: 5.0000 - val_false_positives: 115.0000 - val_precision: 0.2767 - val_recall: 0.8980 - 12s/epoch - 1s/step\n",
      "Epoch 38/80\n",
      "9/9 - 12s - loss: 0.5180 - accuracy: 0.8241 - false_negatives: 0.0000e+00 - false_positives: 971.0000 - precision: 0.3079 - recall: 1.0000 - val_loss: 1.8806 - val_accuracy: 0.4490 - val_false_negatives: 5.0000 - val_false_positives: 118.0000 - val_precision: 0.2716 - val_recall: 0.8980 - 12s/epoch - 1s/step\n",
      "Epoch 39/80\n",
      "9/9 - 12s - loss: 0.4944 - accuracy: 0.7894 - false_negatives: 0.0000e+00 - false_positives: 959.0000 - precision: 0.3106 - recall: 1.0000 - val_loss: 1.8629 - val_accuracy: 0.4490 - val_false_negatives: 5.0000 - val_false_positives: 117.0000 - val_precision: 0.2733 - val_recall: 0.8980 - 12s/epoch - 1s/step\n",
      "Epoch 40/80\n",
      "9/9 - 12s - loss: 0.4321 - accuracy: 0.8380 - false_negatives: 0.0000e+00 - false_positives: 963.0000 - precision: 0.3097 - recall: 1.0000 - val_loss: 1.9428 - val_accuracy: 0.4898 - val_false_negatives: 4.0000 - val_false_positives: 113.0000 - val_precision: 0.2848 - val_recall: 0.9184 - 12s/epoch - 1s/step\n",
      "Epoch 41/80\n",
      "9/9 - 12s - loss: 0.4391 - accuracy: 0.8426 - false_negatives: 0.0000e+00 - false_positives: 960.0000 - precision: 0.3103 - recall: 1.0000 - val_loss: 2.0424 - val_accuracy: 0.4694 - val_false_negatives: 5.0000 - val_false_positives: 115.0000 - val_precision: 0.2767 - val_recall: 0.8980 - 12s/epoch - 1s/step\n",
      "Epoch 42/80\n",
      "9/9 - 12s - loss: 0.4257 - accuracy: 0.8519 - false_negatives: 0.0000e+00 - false_positives: 940.0000 - precision: 0.3149 - recall: 1.0000 - val_loss: 2.0789 - val_accuracy: 0.4694 - val_false_negatives: 4.0000 - val_false_positives: 114.0000 - val_precision: 0.2830 - val_recall: 0.9184 - 12s/epoch - 1s/step\n",
      "Epoch 43/80\n",
      "9/9 - 12s - loss: 0.3635 - accuracy: 0.8704 - false_negatives: 0.0000e+00 - false_positives: 947.0000 - precision: 0.3133 - recall: 1.0000 - val_loss: 2.0787 - val_accuracy: 0.4898 - val_false_negatives: 4.0000 - val_false_positives: 112.0000 - val_precision: 0.2866 - val_recall: 0.9184 - 12s/epoch - 1s/step\n",
      "Epoch 44/80\n",
      "9/9 - 12s - loss: 0.3617 - accuracy: 0.8588 - false_negatives: 0.0000e+00 - false_positives: 943.0000 - precision: 0.3142 - recall: 1.0000 - val_loss: 2.0454 - val_accuracy: 0.4490 - val_false_negatives: 4.0000 - val_false_positives: 114.0000 - val_precision: 0.2830 - val_recall: 0.9184 - 12s/epoch - 1s/step\n",
      "Epoch 45/80\n",
      "9/9 - 12s - loss: 0.3904 - accuracy: 0.8634 - false_negatives: 0.0000e+00 - false_positives: 948.0000 - precision: 0.3130 - recall: 1.0000 - val_loss: 2.0802 - val_accuracy: 0.4694 - val_false_negatives: 4.0000 - val_false_positives: 112.0000 - val_precision: 0.2866 - val_recall: 0.9184 - 12s/epoch - 1s/step\n",
      "Epoch 46/80\n",
      "9/9 - 12s - loss: 0.3420 - accuracy: 0.8796 - false_negatives: 0.0000e+00 - false_positives: 943.0000 - precision: 0.3142 - recall: 1.0000 - val_loss: 2.1271 - val_accuracy: 0.4898 - val_false_negatives: 5.0000 - val_false_positives: 111.0000 - val_precision: 0.2839 - val_recall: 0.8980 - 12s/epoch - 1s/step\n",
      "Epoch 47/80\n",
      "9/9 - 12s - loss: 0.3308 - accuracy: 0.8588 - false_negatives: 0.0000e+00 - false_positives: 930.0000 - precision: 0.3172 - recall: 1.0000 - val_loss: 2.2213 - val_accuracy: 0.4694 - val_false_negatives: 5.0000 - val_false_positives: 109.0000 - val_precision: 0.2876 - val_recall: 0.8980 - 12s/epoch - 1s/step\n",
      "Epoch 48/80\n",
      "9/9 - 12s - loss: 0.2862 - accuracy: 0.8958 - false_negatives: 0.0000e+00 - false_positives: 918.0000 - precision: 0.3200 - recall: 1.0000 - val_loss: 2.1834 - val_accuracy: 0.5102 - val_false_negatives: 6.0000 - val_false_positives: 111.0000 - val_precision: 0.2792 - val_recall: 0.8776 - 12s/epoch - 1s/step\n",
      "Epoch 49/80\n",
      "9/9 - 12s - loss: 0.3353 - accuracy: 0.8750 - false_negatives: 2.0000 - false_positives: 928.0000 - precision: 0.3166 - recall: 0.9954 - val_loss: 2.2724 - val_accuracy: 0.5306 - val_false_negatives: 6.0000 - val_false_positives: 108.0000 - val_precision: 0.2848 - val_recall: 0.8776 - 12s/epoch - 1s/step\n",
      "Epoch 50/80\n",
      "9/9 - 12s - loss: 0.3146 - accuracy: 0.8819 - false_negatives: 0.0000e+00 - false_positives: 924.0000 - precision: 0.3186 - recall: 1.0000 - val_loss: 2.3941 - val_accuracy: 0.4898 - val_false_negatives: 5.0000 - val_false_positives: 107.0000 - val_precision: 0.2914 - val_recall: 0.8980 - 12s/epoch - 1s/step\n",
      "Epoch 51/80\n",
      "9/9 - 12s - loss: 0.3347 - accuracy: 0.8727 - false_negatives: 0.0000e+00 - false_positives: 925.0000 - precision: 0.3183 - recall: 1.0000 - val_loss: 2.4026 - val_accuracy: 0.4490 - val_false_negatives: 6.0000 - val_false_positives: 108.0000 - val_precision: 0.2848 - val_recall: 0.8776 - 12s/epoch - 1s/step\n",
      "Epoch 52/80\n",
      "9/9 - 12s - loss: 0.3101 - accuracy: 0.8727 - false_negatives: 0.0000e+00 - false_positives: 906.0000 - precision: 0.3229 - recall: 1.0000 - val_loss: 2.3983 - val_accuracy: 0.4898 - val_false_negatives: 6.0000 - val_false_positives: 107.0000 - val_precision: 0.2867 - val_recall: 0.8776 - 12s/epoch - 1s/step\n",
      "Epoch 53/80\n",
      "9/9 - 12s - loss: 0.2532 - accuracy: 0.9144 - false_negatives: 1.0000 - false_positives: 930.0000 - precision: 0.3167 - recall: 0.9977 - val_loss: 2.2429 - val_accuracy: 0.5102 - val_false_negatives: 6.0000 - val_false_positives: 109.0000 - val_precision: 0.2829 - val_recall: 0.8776 - 12s/epoch - 1s/step\n",
      "Epoch 54/80\n",
      "9/9 - 12s - loss: 0.3074 - accuracy: 0.8866 - false_negatives: 0.0000e+00 - false_positives: 911.0000 - precision: 0.3217 - recall: 1.0000 - val_loss: 2.3631 - val_accuracy: 0.4490 - val_false_negatives: 6.0000 - val_false_positives: 109.0000 - val_precision: 0.2829 - val_recall: 0.8776 - 12s/epoch - 1s/step\n",
      "Epoch 55/80\n",
      "9/9 - 12s - loss: 0.2370 - accuracy: 0.9144 - false_negatives: 0.0000e+00 - false_positives: 904.0000 - precision: 0.3234 - recall: 1.0000 - val_loss: 2.4975 - val_accuracy: 0.4694 - val_false_negatives: 6.0000 - val_false_positives: 106.0000 - val_precision: 0.2886 - val_recall: 0.8776 - 12s/epoch - 1s/step\n",
      "Epoch 56/80\n",
      "9/9 - 12s - loss: 0.2682 - accuracy: 0.8981 - false_negatives: 0.0000e+00 - false_positives: 904.0000 - precision: 0.3234 - recall: 1.0000 - val_loss: 2.4649 - val_accuracy: 0.4694 - val_false_negatives: 6.0000 - val_false_positives: 102.0000 - val_precision: 0.2966 - val_recall: 0.8776 - 12s/epoch - 1s/step\n",
      "Epoch 57/80\n",
      "9/9 - 12s - loss: 0.2206 - accuracy: 0.9167 - false_negatives: 0.0000e+00 - false_positives: 883.0000 - precision: 0.3285 - recall: 1.0000 - val_loss: 2.5214 - val_accuracy: 0.4898 - val_false_negatives: 6.0000 - val_false_positives: 104.0000 - val_precision: 0.2925 - val_recall: 0.8776 - 12s/epoch - 1s/step\n",
      "Epoch 58/80\n",
      "9/9 - 12s - loss: 0.2112 - accuracy: 0.9028 - false_negatives: 0.0000e+00 - false_positives: 866.0000 - precision: 0.3328 - recall: 1.0000 - val_loss: 2.5421 - val_accuracy: 0.4694 - val_false_negatives: 6.0000 - val_false_positives: 104.0000 - val_precision: 0.2925 - val_recall: 0.8776 - 12s/epoch - 1s/step\n",
      "Epoch 59/80\n",
      "9/9 - 12s - loss: 0.1946 - accuracy: 0.9236 - false_negatives: 0.0000e+00 - false_positives: 876.0000 - precision: 0.3303 - recall: 1.0000 - val_loss: 2.5576 - val_accuracy: 0.4490 - val_false_negatives: 5.0000 - val_false_positives: 104.0000 - val_precision: 0.2973 - val_recall: 0.8980 - 12s/epoch - 1s/step\n",
      "Epoch 60/80\n",
      "9/9 - 12s - loss: 0.1771 - accuracy: 0.9421 - false_negatives: 0.0000e+00 - false_positives: 878.0000 - precision: 0.3298 - recall: 1.0000 - val_loss: 2.6338 - val_accuracy: 0.4082 - val_false_negatives: 6.0000 - val_false_positives: 104.0000 - val_precision: 0.2925 - val_recall: 0.8776 - 12s/epoch - 1s/step\n",
      "Epoch 61/80\n",
      "9/9 - 12s - loss: 0.2023 - accuracy: 0.9213 - false_negatives: 0.0000e+00 - false_positives: 851.0000 - precision: 0.3367 - recall: 1.0000 - val_loss: 2.7631 - val_accuracy: 0.5306 - val_false_negatives: 7.0000 - val_false_positives: 100.0000 - val_precision: 0.2958 - val_recall: 0.8571 - 12s/epoch - 1s/step\n",
      "Epoch 62/80\n",
      "9/9 - 12s - loss: 0.1903 - accuracy: 0.9306 - false_negatives: 0.0000e+00 - false_positives: 867.0000 - precision: 0.3326 - recall: 1.0000 - val_loss: 2.6724 - val_accuracy: 0.4286 - val_false_negatives: 6.0000 - val_false_positives: 104.0000 - val_precision: 0.2925 - val_recall: 0.8776 - 12s/epoch - 1s/step\n",
      "Epoch 63/80\n",
      "9/9 - 12s - loss: 0.1866 - accuracy: 0.9306 - false_negatives: 0.0000e+00 - false_positives: 834.0000 - precision: 0.3412 - recall: 1.0000 - val_loss: 2.8897 - val_accuracy: 0.4694 - val_false_negatives: 6.0000 - val_false_positives: 102.0000 - val_precision: 0.2966 - val_recall: 0.8776 - 12s/epoch - 1s/step\n",
      "Epoch 64/80\n",
      "9/9 - 12s - loss: 0.1653 - accuracy: 0.9352 - false_negatives: 0.0000e+00 - false_positives: 843.0000 - precision: 0.3388 - recall: 1.0000 - val_loss: 2.9324 - val_accuracy: 0.5306 - val_false_negatives: 6.0000 - val_false_positives: 99.0000 - val_precision: 0.3028 - val_recall: 0.8776 - 12s/epoch - 1s/step\n",
      "Epoch 65/80\n",
      "9/9 - 12s - loss: 0.1594 - accuracy: 0.9491 - false_negatives: 0.0000e+00 - false_positives: 833.0000 - precision: 0.3415 - recall: 1.0000 - val_loss: 2.8336 - val_accuracy: 0.4694 - val_false_negatives: 6.0000 - val_false_positives: 99.0000 - val_precision: 0.3028 - val_recall: 0.8776 - 12s/epoch - 1s/step\n",
      "Epoch 66/80\n",
      "9/9 - 12s - loss: 0.1527 - accuracy: 0.9444 - false_negatives: 0.0000e+00 - false_positives: 831.0000 - precision: 0.3420 - recall: 1.0000 - val_loss: 2.9550 - val_accuracy: 0.5306 - val_false_negatives: 6.0000 - val_false_positives: 99.0000 - val_precision: 0.3028 - val_recall: 0.8776 - 12s/epoch - 1s/step\n",
      "Epoch 67/80\n",
      "9/9 - 12s - loss: 0.1920 - accuracy: 0.9282 - false_negatives: 0.0000e+00 - false_positives: 824.0000 - precision: 0.3439 - recall: 1.0000 - val_loss: 2.8230 - val_accuracy: 0.4286 - val_false_negatives: 6.0000 - val_false_positives: 103.0000 - val_precision: 0.2945 - val_recall: 0.8776 - 12s/epoch - 1s/step\n",
      "Epoch 68/80\n",
      "9/9 - 12s - loss: 0.2023 - accuracy: 0.9259 - false_negatives: 0.0000e+00 - false_positives: 823.0000 - precision: 0.3442 - recall: 1.0000 - val_loss: 2.8593 - val_accuracy: 0.5102 - val_false_negatives: 5.0000 - val_false_positives: 97.0000 - val_precision: 0.3121 - val_recall: 0.8980 - 12s/epoch - 1s/step\n",
      "Epoch 69/80\n",
      "9/9 - 12s - loss: 0.1376 - accuracy: 0.9514 - false_negatives: 0.0000e+00 - false_positives: 819.0000 - precision: 0.3453 - recall: 1.0000 - val_loss: 2.9021 - val_accuracy: 0.4490 - val_false_negatives: 6.0000 - val_false_positives: 97.0000 - val_precision: 0.3071 - val_recall: 0.8776 - 12s/epoch - 1s/step\n",
      "Epoch 70/80\n",
      "9/9 - 12s - loss: 0.1793 - accuracy: 0.9375 - false_negatives: 0.0000e+00 - false_positives: 816.0000 - precision: 0.3462 - recall: 1.0000 - val_loss: 2.8634 - val_accuracy: 0.4490 - val_false_negatives: 6.0000 - val_false_positives: 99.0000 - val_precision: 0.3028 - val_recall: 0.8776 - 12s/epoch - 1s/step\n",
      "Epoch 71/80\n",
      "9/9 - 12s - loss: 0.1618 - accuracy: 0.9491 - false_negatives: 0.0000e+00 - false_positives: 820.0000 - precision: 0.3450 - recall: 1.0000 - val_loss: 2.9877 - val_accuracy: 0.4898 - val_false_negatives: 7.0000 - val_false_positives: 94.0000 - val_precision: 0.3088 - val_recall: 0.8571 - 12s/epoch - 1s/step\n",
      "Epoch 72/80\n",
      "9/9 - 12s - loss: 0.1527 - accuracy: 0.9468 - false_negatives: 0.0000e+00 - false_positives: 810.0000 - precision: 0.3478 - recall: 1.0000 - val_loss: 2.9198 - val_accuracy: 0.4694 - val_false_negatives: 6.0000 - val_false_positives: 99.0000 - val_precision: 0.3028 - val_recall: 0.8776 - 12s/epoch - 1s/step\n",
      "Epoch 73/80\n",
      "9/9 - 12s - loss: 0.1412 - accuracy: 0.9352 - false_negatives: 0.0000e+00 - false_positives: 822.0000 - precision: 0.3445 - recall: 1.0000 - val_loss: 2.8462 - val_accuracy: 0.4694 - val_false_negatives: 4.0000 - val_false_positives: 97.0000 - val_precision: 0.3169 - val_recall: 0.9184 - 12s/epoch - 1s/step\n",
      "Epoch 74/80\n",
      "9/9 - 12s - loss: 0.1021 - accuracy: 0.9630 - false_negatives: 0.0000e+00 - false_positives: 807.0000 - precision: 0.3487 - recall: 1.0000 - val_loss: 2.7955 - val_accuracy: 0.4694 - val_false_negatives: 5.0000 - val_false_positives: 100.0000 - val_precision: 0.3056 - val_recall: 0.8980 - 12s/epoch - 1s/step\n",
      "Epoch 75/80\n",
      "9/9 - 13s - loss: 0.1367 - accuracy: 0.9560 - false_negatives: 0.0000e+00 - false_positives: 798.0000 - precision: 0.3512 - recall: 1.0000 - val_loss: 2.9123 - val_accuracy: 0.4898 - val_false_negatives: 6.0000 - val_false_positives: 101.0000 - val_precision: 0.2986 - val_recall: 0.8776 - 13s/epoch - 1s/step\n",
      "Epoch 76/80\n",
      "9/9 - 12s - loss: 0.1271 - accuracy: 0.9444 - false_negatives: 0.0000e+00 - false_positives: 798.0000 - precision: 0.3512 - recall: 1.0000 - val_loss: 2.9781 - val_accuracy: 0.4286 - val_false_negatives: 5.0000 - val_false_positives: 94.0000 - val_precision: 0.3188 - val_recall: 0.8980 - 12s/epoch - 1s/step\n",
      "Epoch 77/80\n",
      "9/9 - 13s - loss: 0.1195 - accuracy: 0.9421 - false_negatives: 0.0000e+00 - false_positives: 789.0000 - precision: 0.3538 - recall: 1.0000 - val_loss: 2.7410 - val_accuracy: 0.5102 - val_false_negatives: 6.0000 - val_false_positives: 99.0000 - val_precision: 0.3028 - val_recall: 0.8776 - 13s/epoch - 1s/step\n",
      "Epoch 78/80\n",
      "9/9 - 13s - loss: 0.1163 - accuracy: 0.9560 - false_negatives: 0.0000e+00 - false_positives: 805.0000 - precision: 0.3492 - recall: 1.0000 - val_loss: 2.9037 - val_accuracy: 0.4694 - val_false_negatives: 5.0000 - val_false_positives: 98.0000 - val_precision: 0.3099 - val_recall: 0.8980 - 13s/epoch - 1s/step\n",
      "Epoch 79/80\n",
      "9/9 - 12s - loss: 0.1161 - accuracy: 0.9583 - false_negatives: 0.0000e+00 - false_positives: 776.0000 - precision: 0.3576 - recall: 1.0000 - val_loss: 2.9480 - val_accuracy: 0.4694 - val_false_negatives: 6.0000 - val_false_positives: 97.0000 - val_precision: 0.3071 - val_recall: 0.8776 - 12s/epoch - 1s/step\n",
      "Epoch 80/80\n",
      "9/9 - 12s - loss: 0.1186 - accuracy: 0.9676 - false_negatives: 0.0000e+00 - false_positives: 799.0000 - precision: 0.3509 - recall: 1.0000 - val_loss: 3.0855 - val_accuracy: 0.4286 - val_false_negatives: 5.0000 - val_false_positives: 96.0000 - val_precision: 0.3143 - val_recall: 0.8980 - 12s/epoch - 1s/step\n"
     ]
    }
   ],
   "source": [
    "history = model.fit(X_train_tensor_res, y_train_one_hot,validation_split = 0.1, batch_size = 50, epochs = 80, verbose = 2)"
   ]
  },
  {
   "cell_type": "code",
   "execution_count": 67,
   "metadata": {
    "colab": {
     "base_uri": "https://localhost:8080/"
    },
    "id": "tp-MEN2lg4U6",
    "outputId": "b82f8ef5-d3d8-4010-f2b8-2f51e0110652"
   },
   "outputs": [
    {
     "name": "stdout",
     "output_type": "stream",
     "text": [
      "2/2 - 0s - loss: 1.5070 - accuracy: 0.6667 - false_negatives: 2.0000 - false_positives: 96.0000 - precision: 0.3514 - recall: 0.9630 - 161ms/epoch - 81ms/step\n"
     ]
    }
   ],
   "source": [
    "loss = model.evaluate(X_test_tensor_res, y_test_one_hot, verbose = 2)"
   ]
  },
  {
   "cell_type": "code",
   "execution_count": 68,
   "metadata": {
    "colab": {
     "base_uri": "https://localhost:8080/"
    },
    "id": "y7dAtQdSnrY-",
    "outputId": "67fb8deb-7edc-4c71-fe83-80db256eb628"
   },
   "outputs": [
    {
     "data": {
      "text/plain": [
       "[1.5070182085037231,\n",
       " 0.6666666865348816,\n",
       " 2.0,\n",
       " 96.0,\n",
       " 0.3513513505458832,\n",
       " 0.9629629850387573]"
      ]
     },
     "execution_count": 68,
     "metadata": {},
     "output_type": "execute_result"
    }
   ],
   "source": [
    "loss"
   ]
  },
  {
   "cell_type": "code",
   "execution_count": 69,
   "metadata": {
    "colab": {
     "base_uri": "https://localhost:8080/"
    },
    "id": "8RyZeqGDnvcS",
    "outputId": "b5b236fe-62e5-4b9a-bc49-39d7fe950d7d"
   },
   "outputs": [
    {
     "name": "stderr",
     "output_type": "stream",
     "text": [
      "C:\\Users\\91824\\AppData\\Local\\Packages\\PythonSoftwareFoundation.Python.3.10_qbz5n2kfra8p0\\LocalCache\\local-packages\\Python310\\site-packages\\keras\\src\\engine\\training.py:3103: UserWarning: You are saving your model as an HDF5 file via `model.save()`. This file format is considered legacy. We recommend using instead the native Keras format, e.g. `model.save('my_model.keras')`.\n",
      "  saving_api.save_model(\n"
     ]
    }
   ],
   "source": [
    "model.save(\"Model_67abcde.h5\")"
   ]
  },
  {
   "cell_type": "code",
   "execution_count": 70,
   "metadata": {
    "colab": {
     "base_uri": "https://localhost:8080/"
    },
    "id": "poQCOnSjnyvv",
    "outputId": "7de9a03c-c28e-46b8-fc81-9e60929d9aab"
   },
   "outputs": [
    {
     "name": "stdout",
     "output_type": "stream",
     "text": [
      "2/2 [==============================] - 4s 60ms/step\n"
     ]
    }
   ],
   "source": [
    "y_pred_probs = model.predict(X_test_tensor_res)"
   ]
  },
  {
   "cell_type": "code",
   "execution_count": 71,
   "metadata": {
    "colab": {
     "base_uri": "https://localhost:8080/"
    },
    "id": "ozSFc_Mwn3q8",
    "outputId": "56edeef0-1557-429e-ab58-879e44a5a024"
   },
   "outputs": [
    {
     "data": {
      "text/plain": [
       "array([[3.67813955e-05, 9.99765337e-01, 2.28776097e-01, 9.46349919e-01,\n",
       "        9.69621632e-03, 1.39636332e-02, 9.99885082e-01],\n",
       "       [9.93393123e-01, 1.66933723e-02, 9.70077753e-01, 7.41730705e-02,\n",
       "        9.48340118e-01, 2.25723803e-01, 1.57200135e-02],\n",
       "       [2.36525908e-01, 9.96745646e-01, 9.59648967e-01, 1.28904081e-04,\n",
       "        4.01429716e-05, 9.99999642e-01, 9.08892695e-03],\n",
       "       [3.52973421e-03, 9.99992788e-01, 8.47822487e-01, 5.38027938e-03,\n",
       "        6.38863203e-05, 9.92636681e-01, 8.73200715e-01],\n",
       "       [9.98123169e-01, 5.85866626e-03, 1.75146073e-01, 4.39445496e-01,\n",
       "        9.97982323e-01, 8.50251392e-02, 1.61758959e-02],\n",
       "       [9.99989450e-01, 1.65981043e-03, 1.34520361e-03, 3.59544754e-01,\n",
       "        9.99880314e-01, 5.06145060e-02, 3.15706641e-03],\n",
       "       [2.16589317e-01, 9.97432947e-01, 9.71120596e-01, 1.49202679e-04,\n",
       "        4.28752537e-05, 9.99999285e-01, 1.09971492e-02],\n",
       "       [2.64220689e-05, 3.84686470e-01, 9.75562783e-04, 9.99996185e-01,\n",
       "        9.80692625e-01, 5.81699307e-04, 9.99803603e-01],\n",
       "       [9.99684095e-01, 2.28930800e-03, 3.96150397e-03, 7.38949537e-01,\n",
       "        9.99874532e-01, 4.22440507e-02, 7.46740168e-03],\n",
       "       [7.96067063e-04, 3.01493049e-01, 2.07144860e-03, 9.99946296e-01,\n",
       "        9.88514423e-01, 2.47238111e-03, 9.94987965e-01],\n",
       "       [9.99999821e-01, 1.79758354e-03, 2.36108550e-03, 3.56599689e-02,\n",
       "        9.99393880e-01, 5.67718036e-02, 2.10384233e-03],\n",
       "       [4.59462963e-03, 9.99998271e-01, 4.51678455e-01, 2.08679703e-03,\n",
       "        2.23015395e-05, 9.98774529e-01, 8.76267076e-01],\n",
       "       [1.34859934e-01, 8.41940343e-01, 9.78890479e-01, 1.85166478e-01,\n",
       "        8.72465670e-02, 6.67206049e-01, 4.23845738e-01],\n",
       "       [9.99976635e-01, 2.29890156e-03, 1.24961948e-02, 2.06265867e-01,\n",
       "        9.99581993e-01, 5.95781468e-02, 4.71459748e-03],\n",
       "       [9.99926507e-01, 4.83766245e-03, 2.36011758e-01, 6.81673884e-02,\n",
       "        9.94646847e-01, 1.31789044e-01, 8.57043359e-03],\n",
       "       [9.99999702e-01, 1.81620836e-03, 2.99909292e-03, 3.65393199e-02,\n",
       "        9.99407113e-01, 5.63187040e-02, 2.22475943e-03],\n",
       "       [6.33795789e-05, 9.94869709e-01, 1.53216749e-01, 9.93999660e-01,\n",
       "        1.25808299e-01, 5.27917268e-03, 9.99706686e-01],\n",
       "       [9.99999881e-01, 1.87152112e-03, 2.90718162e-03, 2.47979891e-02,\n",
       "        9.99148369e-01, 5.56817874e-02, 2.15557311e-03],\n",
       "       [9.99988377e-01, 1.44597748e-03, 1.07216742e-03, 4.08371598e-01,\n",
       "        9.99932468e-01, 4.30787094e-02, 2.54765921e-03],\n",
       "       [2.55748451e-01, 9.95072186e-01, 9.83522177e-01, 1.80235671e-04,\n",
       "        6.12328440e-05, 9.99998689e-01, 1.12040974e-02],\n",
       "       [9.99999881e-01, 1.86454901e-03, 2.78070965e-03, 1.68596413e-02,\n",
       "        9.98907566e-01, 5.13336696e-02, 1.97741645e-03],\n",
       "       [8.22107308e-03, 9.99646187e-01, 9.93600547e-01, 1.19556608e-02,\n",
       "        4.49297222e-04, 9.78117049e-01, 5.70389330e-01],\n",
       "       [2.60599569e-04, 9.99999404e-01, 2.64501899e-01, 3.34183797e-02,\n",
       "        6.72262904e-05, 7.93614030e-01, 9.98358667e-01],\n",
       "       [1.27751932e-01, 9.98255432e-01, 9.93942797e-01, 5.21760143e-04,\n",
       "        1.07650943e-04, 9.99952793e-01, 3.90921980e-02],\n",
       "       [4.77470830e-03, 9.99996126e-01, 7.55507767e-01, 2.68503814e-03,\n",
       "        3.50299015e-05, 9.97795105e-01, 8.19189787e-01],\n",
       "       [1.64685771e-03, 4.74823341e-02, 2.03621085e-03, 9.99981940e-01,\n",
       "        9.99044180e-01, 1.92213524e-03, 9.57356274e-01],\n",
       "       [7.52772758e-05, 8.78880799e-01, 3.83029971e-03, 9.99881148e-01,\n",
       "        7.86339819e-01, 2.10870639e-03, 9.99821305e-01],\n",
       "       [9.99986470e-01, 2.47865240e-03, 2.39715073e-02, 1.06727757e-01,\n",
       "        9.99235749e-01, 6.87534511e-02, 4.77263983e-03],\n",
       "       [5.84229701e-06, 9.97736394e-01, 5.64652262e-03, 9.99198079e-01,\n",
       "        8.30419213e-02, 1.34388788e-03, 9.99997437e-01],\n",
       "       [1.19819835e-01, 9.12624504e-03, 1.40416552e-03, 9.99812603e-01,\n",
       "        9.99881089e-01, 5.72606735e-03, 3.74770880e-01],\n",
       "       [9.99743044e-01, 4.54527233e-03, 1.34449499e-02, 4.90750045e-01,\n",
       "        9.99231696e-01, 7.14103281e-02, 1.25640798e-02],\n",
       "       [2.24086034e-04, 8.91137898e-01, 3.11055072e-02, 9.99325216e-01,\n",
       "        7.00283945e-01, 4.65856865e-03, 9.98888671e-01],\n",
       "       [1.21577576e-01, 9.35617149e-01, 9.99802887e-01, 8.60641338e-03,\n",
       "        5.20855747e-03, 9.75302935e-01, 6.76768348e-02],\n",
       "       [9.99999762e-01, 1.88448420e-03, 3.30584729e-03, 3.27542499e-02,\n",
       "        9.99269485e-01, 5.80373406e-02, 2.33958941e-03],\n",
       "       [7.79228583e-02, 9.89840209e-01, 9.99192238e-01, 5.40807704e-03,\n",
       "        1.37796614e-03, 9.91865635e-01, 1.16712980e-01],\n",
       "       [1.15194300e-04, 9.98640835e-01, 2.09559873e-01, 9.66245115e-01,\n",
       "        2.91421469e-02, 2.15519499e-02, 9.99596655e-01],\n",
       "       [9.99971330e-01, 1.60812575e-03, 1.33121666e-03, 5.23880482e-01,\n",
       "        9.99925911e-01, 4.22232561e-02, 3.40915774e-03],\n",
       "       [5.05203940e-02, 9.99911547e-01, 9.00354922e-01, 5.43306756e-04,\n",
       "        3.52088828e-05, 9.99963403e-01, 1.59357503e-01],\n",
       "       [9.99884486e-01, 2.80520949e-03, 1.22678084e-02, 4.19292301e-01,\n",
       "        9.99637902e-01, 5.57840616e-02, 7.08409119e-03],\n",
       "       [1.30205482e-01, 9.96935904e-01, 9.97953057e-01, 5.55841718e-04,\n",
       "        1.48614839e-04, 9.99923587e-01, 2.73157302e-02],\n",
       "       [1.88620586e-04, 9.81022179e-01, 3.88367735e-02, 9.97087955e-01,\n",
       "        2.95314640e-01, 7.94038642e-03, 9.99527216e-01],\n",
       "       [8.05624513e-05, 9.99227405e-01, 9.61441472e-02, 9.68774617e-01,\n",
       "        1.97668616e-02, 2.20918544e-02, 9.99846339e-01],\n",
       "       [2.37478778e-01, 9.96610761e-01, 9.46271300e-01, 1.13074580e-04,\n",
       "        3.64604857e-05, 9.99999821e-01, 7.81104574e-03],\n",
       "       [6.69745356e-02, 9.99787331e-01, 9.57178533e-01, 5.06789307e-04,\n",
       "        4.65719131e-05, 9.99966145e-01, 9.80384201e-02],\n",
       "       [9.99998152e-01, 1.76654547e-03, 3.09900171e-03, 1.02446400e-01,\n",
       "        9.99698043e-01, 5.62223047e-02, 2.63334066e-03],\n",
       "       [2.17811808e-01, 9.92059112e-01, 9.98108745e-01, 3.56014090e-04,\n",
       "        1.45883430e-04, 9.99978185e-01, 1.38651030e-02],\n",
       "       [9.23683365e-06, 9.99995172e-01, 3.84004265e-02, 8.09175789e-01,\n",
       "        8.78123974e-04, 1.28925657e-02, 9.99995530e-01],\n",
       "       [9.99995887e-01, 1.70312217e-03, 1.76246604e-03, 2.09278673e-01,\n",
       "        9.99815524e-01, 5.43322712e-02, 2.82079726e-03],\n",
       "       [7.88195393e-05, 2.16885611e-01, 1.09713234e-03, 9.99995470e-01,\n",
       "        9.92349327e-01, 8.35388317e-04, 9.99002516e-01],\n",
       "       [3.53144556e-01, 2.29691282e-01, 9.99146879e-01, 1.53447837e-01,\n",
       "        4.68209714e-01, 3.09008807e-01, 6.73183203e-02],\n",
       "       [1.50917843e-01, 9.99051094e-01, 9.71530378e-01, 2.19698515e-04,\n",
       "        4.24399077e-05, 9.99996781e-01, 2.26366967e-02],\n",
       "       [1.30410044e-04, 9.99994397e-01, 5.45953751e-01, 1.96011513e-01,\n",
       "        3.56210861e-04, 2.89875031e-01, 9.99013722e-01],\n",
       "       [5.88603007e-06, 9.99996603e-01, 1.41901858e-02, 8.28031361e-01,\n",
       "        7.50822190e-04, 9.67141241e-03, 9.99998868e-01],\n",
       "       [8.02157301e-05, 9.99988198e-01, 1.37007281e-01, 4.92739916e-01,\n",
       "        7.13791291e-04, 1.51635572e-01, 9.99855161e-01]], dtype=float32)"
      ]
     },
     "execution_count": 71,
     "metadata": {},
     "output_type": "execute_result"
    }
   ],
   "source": [
    "y_pred_probs"
   ]
  },
  {
   "cell_type": "code",
   "execution_count": 75,
   "metadata": {
    "colab": {
     "base_uri": "https://localhost:8080/",
     "height": 563
    },
    "id": "SF6pUc7X1ucc",
    "outputId": "690d804b-1f69-4e3b-8992-2ef1134c3062"
   },
   "outputs": [
    {
     "data": {
      "image/png": "[encoded data removed]",
      "text/plain": [
       "<Figure size 640x480 with 1 Axes>"
      ]
     },
     "metadata": {},
     "output_type": "display_data"
    }
   ],
   "source": [
    "plt.plot(history.history['loss'])\n",
    "plt.plot(history.history['val_loss'])\n",
    "plt.title('Model Loss')\n",
    "plt.legend(['Train','Validation'],loc = 'upper left')\n",
    "plt.subplots_adjust(top=1.0,bottom=0.0,right=0.95,left=0.0,hspace=0.25,wspace=0.35)"
   ]
  },
  {
   "cell_type": "code",
   "execution_count": 76,
   "metadata": {
    "colab": {
     "base_uri": "https://localhost:8080/",
     "height": 563
    },
    "id": "vWVPzViJ2BEW",
    "outputId": "fd0c0c77-ef51-480f-8c5f-07fbcb261589"
   },
   "outputs": [
    {
     "data": {
      "image/png": "[encoded data removed]",
      "text/plain": [
       "<Figure size 640x480 with 1 Axes>"
      ]
     },
     "metadata": {},
     "output_type": "display_data"
    }
   ],
   "source": [
    "plt.plot(history.history['accuracy'])\n",
    "plt.plot(history.history['val_accuracy'])\n",
    "plt.title('Model Accuracy')\n",
    "plt.legend(['Train','Validation'],loc = 'upper left')\n",
    "plt.subplots_adjust(top=1.0,bottom=0.0,right=0.95,left=0.0,hspace=0.25,wspace=0.35)"
   ]
  },
  {
   "cell_type": "code",
   "execution_count": 77,
   "metadata": {
    "id": "0nGwQQtG2Fw1"
   },
   "outputs": [],
   "source": [
    "model_json = model.to_json()\n",
    "with open(\"model_a.json\", \"w\") as json_file:\n",
    "    json_file.write(model_json)"
   ]
  },
  {
   "cell_type": "code",
   "execution_count": null,
   "metadata": {
    "id": "MSiETd70oN5h"
   },
   "outputs": [],
   "source": []
  }
 ],
 "metadata": {
  "colab": {
   "provenance": []
  },
  "kernelspec": {
   "display_name": "Python 3 (ipykernel)",
   "language": "python",
   "name": "python3"
  },
  "language_info": {
   "codemirror_mode": {
    "name": "ipython",
    "version": 3
   },
   "file_extension": ".py",
   "mimetype": "text/x-python",
   "name": "python",
   "nbconvert_exporter": "python",
   "pygments_lexer": "ipython3",
   "version": "3.10.11"
  }
 },
 "nbformat": 4,
 "nbformat_minor": 1
}
